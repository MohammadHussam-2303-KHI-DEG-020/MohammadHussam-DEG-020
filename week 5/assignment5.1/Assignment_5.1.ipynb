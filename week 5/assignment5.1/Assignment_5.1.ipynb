{
 "cells": [
  {
   "cell_type": "code",
   "execution_count": 1,
   "id": "b61005e2-be2d-42c4-bdab-455411db4edb",
   "metadata": {
    "tags": []
   },
   "outputs": [],
   "source": [
    "from pyspark.sql import SparkSession\n",
    "from pyspark.sql.types import IntegerType , DateType \n",
    "from pyspark.sql.functions import sum, col,avg,desc\n"
   ]
  },
  {
   "cell_type": "code",
   "execution_count": 2,
   "id": "2cdc312d-c323-4c74-a37e-9083dce169e2",
   "metadata": {
    "tags": []
   },
   "outputs": [
    {
     "name": "stderr",
     "output_type": "stream",
     "text": [
      "23/05/16 16:42:46 WARN Utils: Your hostname, all-MS-7D35 resolves to a loopback address: 127.0.1.1; using 192.168.1.134 instead (on interface enp2s0)\n",
      "23/05/16 16:42:46 WARN Utils: Set SPARK_LOCAL_IP if you need to bind to another address\n",
      "Setting default log level to \"WARN\".\n",
      "To adjust logging level use sc.setLogLevel(newLevel). For SparkR, use setLogLevel(newLevel).\n",
      "23/05/16 16:42:46 WARN NativeCodeLoader: Unable to load native-hadoop library for your platform... using builtin-java classes where applicable\n"
     ]
    }
   ],
   "source": [
    "scSpark = SparkSession.builder.appName(\"Spark Example\").getOrCreate()"
   ]
  },
  {
   "cell_type": "code",
   "execution_count": 3,
   "id": "af296278-13c4-4d09-997c-495a5a8dffc0",
   "metadata": {
    "tags": []
   },
   "outputs": [
    {
     "name": "stdout",
     "output_type": "stream",
     "text": [
      "+-------+-------------+----------+---------+--------+-------------------+----------+--------------------+--------------------+---------+-------------+--------+---------+\n",
      "|StoreId|TransactionId|CustomerId|ProductId|Quantity|    TransactionTime|CustomerId|                Name|               Email|ProductId|         Name|Category|UnitPrice|\n",
      "+-------+-------------+----------+---------+--------+-------------------+----------+--------------------+--------------------+---------+-------------+--------+---------+\n",
      "|      3|          454|        35|        3|       3|2022-12-23 17:36:11|        35|      Dwayne Johnson|dwayne.johnson@gm...|        3|  Blue Shorts|  Shorts|   118.88|\n",
      "|      3|          524|        37|        9|      11|2022-12-23 22:02:51|        37|       Brittany Holt|brittany.holt@exa...|        9|Green Sandals|   Shoes|   137.53|\n",
      "|      3|          562|         4|        3|       4|2022-12-23 02:51:50|         4|       Alevtin Paska|alevtin.paska@exa...|        3|  Blue Shorts|  Shorts|   118.88|\n",
      "|      3|          581|        35|       14|      56|2022-12-23 17:05:54|        35|      Dwayne Johnson|dwayne.johnson@gm...|       14|  Red t-shirt|T-Shirts|   121.58|\n",
      "|      3|          200|        34|       15|      24|2022-12-23 07:15:01|        34|            Avi Shet|avi.shet@example.com|       15|White t-shirt|T-Shirts|   131.13|\n",
      "|      3|          506|        41|       24|      19|2022-12-23 21:26:29|        41|         Alice Morin|alice.morin@examp...|       24|   Blue Jeans|   Pants|    173.1|\n",
      "|      3|          278|         5|        1|       5|2022-12-23 16:41:42|         5|      Charlotte Wong|charlotte.wong@ex...|        1|   Red Shorts|  Shorts|    89.75|\n",
      "|      3|          849|        36|       23|      13|2022-12-23 13:22:55|        36|     William Nielsen|william.nielsen@e...|       23| Green Chinos|   Pants|   150.93|\n",
      "|      3|          992|        34|        7|       3|2022-12-23 16:47:14|        34|            Avi Shet|avi.shet@example.com|        7|White Sandals|   Shoes|   160.96|\n",
      "|      3|          703|        19|        7|      13|2022-12-23 22:36:48|        19|       Alexia Renaud|alexia.renaud@exa...|        7|White Sandals|   Shoes|   160.96|\n",
      "|      3|          719|        48|       18|      12|2022-12-23 10:11:29|        48|        Amoli Shenoy|amoli.shenoy@exam...|       18|Black t-shirt|T-Shirts|   102.41|\n",
      "|      3|          526|        13|       14|       3|2022-12-23 11:57:23|        13|      Elizabeth Neal|elizabeth.neal@ex...|       14|  Red t-shirt|T-Shirts|   121.58|\n",
      "|      3|          997|        20|        1|      14|2022-12-23 04:02:30|        20|         Suzy Gibson|suzy.gibson@examp...|        1|   Red Shorts|  Shorts|    89.75|\n",
      "|      3|          281|        11|       15|      25|2022-12-23 16:07:45|        11|    Angélique Vennix|angelique.vennix@...|       15|White t-shirt|T-Shirts|   131.13|\n",
      "|      3|          691|        48|       23|       2|2022-12-23 08:12:00|        48|        Amoli Shenoy|amoli.shenoy@exam...|       23| Green Chinos|   Pants|   150.93|\n",
      "|      3|          762|        17|        5|      26|2022-12-23 16:18:27|        17|Sevastiana Nester...|sevastiana.nester...|        5| Black Shorts|  Shorts|    74.58|\n",
      "|      3|          106|        24|       23|      11|2022-12-23 07:41:50|        24|         Bernd Colin|bernd.colin@examp...|       23| Green Chinos|   Pants|   150.93|\n",
      "|      3|           21|        32|        9|       2|2022-12-23 21:15:10|        32|        Ethan Little|ethan.little@exam...|        9|Green Sandals|   Shoes|   137.53|\n",
      "|      3|          626|        14|       18|      14|2022-12-23 12:55:02|        14|      Sylvie Lecomte|sylvie.lecomte@ex...|       18|Black t-shirt|T-Shirts|   102.41|\n",
      "|      3|          219|        11|       15|       5|2022-12-23 13:00:17|        11|    Angélique Vennix|angelique.vennix@...|       15|White t-shirt|T-Shirts|   131.13|\n",
      "+-------+-------------+----------+---------+--------+-------------------+----------+--------------------+--------------------+---------+-------------+--------+---------+\n",
      "only showing top 20 rows\n",
      "\n"
     ]
    }
   ],
   "source": [
    "transaction = scSpark.read.csv(\"transactions_*.csv\", header=True, inferSchema=True)\n",
    "customer = scSpark.read.csv(\"customers.csv\", header=True, inferSchema=True)\n",
    "products = scSpark.read.csv(\"products.csv\", header=True, inferSchema=True)\n",
    "\n",
    "# Define join conditions\n",
    "join_condition1 = transaction[\"CustomerId\"] == customer[\"CustomerId\"]\n",
    "\n",
    "join_condition2 = transaction[\"ProductId\"] == products[\"ProductId\"]\n",
    "\n",
    "# Perform joins\n",
    "joined_df = transaction.join(customer, join_condition1, \"left\") \\\n",
    "                      .join(products, join_condition2, \"left\")\n",
    "\n",
    "# Show the resulting joined data frame\n",
    "joined_df.show()"
   ]
  },
  {
   "cell_type": "code",
   "execution_count": 4,
   "id": "9f96d300-2dfc-4eb6-9bb8-0315db3b2dbe",
   "metadata": {
    "tags": []
   },
   "outputs": [
    {
     "name": "stdout",
     "output_type": "stream",
     "text": [
      "+-------+-------------+----------+---------+--------+-------------------+----------+--------------------+--------------------+---------+-------------+--------+---------+------------------+\n",
      "|StoreId|TransactionId|CustomerId|ProductId|Quantity|    TransactionTime|CustomerId|                Name|               Email|ProductId|         Name|Category|UnitPrice|       total price|\n",
      "+-------+-------------+----------+---------+--------+-------------------+----------+--------------------+--------------------+---------+-------------+--------+---------+------------------+\n",
      "|      3|          454|        35|        3|       3|2022-12-23 17:36:11|        35|      Dwayne Johnson|dwayne.johnson@gm...|        3|  Blue Shorts|  Shorts|   118.88|            356.64|\n",
      "|      3|          524|        37|        9|      11|2022-12-23 22:02:51|        37|       Brittany Holt|brittany.holt@exa...|        9|Green Sandals|   Shoes|   137.53|           1512.83|\n",
      "|      3|          562|         4|        3|       4|2022-12-23 02:51:50|         4|       Alevtin Paska|alevtin.paska@exa...|        3|  Blue Shorts|  Shorts|   118.88|            475.52|\n",
      "|      3|          581|        35|       14|      56|2022-12-23 17:05:54|        35|      Dwayne Johnson|dwayne.johnson@gm...|       14|  Red t-shirt|T-Shirts|   121.58|           6808.48|\n",
      "|      3|          200|        34|       15|      24|2022-12-23 07:15:01|        34|            Avi Shet|avi.shet@example.com|       15|White t-shirt|T-Shirts|   131.13|           3147.12|\n",
      "|      3|          506|        41|       24|      19|2022-12-23 21:26:29|        41|         Alice Morin|alice.morin@examp...|       24|   Blue Jeans|   Pants|    173.1|            3288.9|\n",
      "|      3|          278|         5|        1|       5|2022-12-23 16:41:42|         5|      Charlotte Wong|charlotte.wong@ex...|        1|   Red Shorts|  Shorts|    89.75|            448.75|\n",
      "|      3|          849|        36|       23|      13|2022-12-23 13:22:55|        36|     William Nielsen|william.nielsen@e...|       23| Green Chinos|   Pants|   150.93|1962.0900000000001|\n",
      "|      3|          992|        34|        7|       3|2022-12-23 16:47:14|        34|            Avi Shet|avi.shet@example.com|        7|White Sandals|   Shoes|   160.96|            482.88|\n",
      "|      3|          703|        19|        7|      13|2022-12-23 22:36:48|        19|       Alexia Renaud|alexia.renaud@exa...|        7|White Sandals|   Shoes|   160.96|           2092.48|\n",
      "|      3|          719|        48|       18|      12|2022-12-23 10:11:29|        48|        Amoli Shenoy|amoli.shenoy@exam...|       18|Black t-shirt|T-Shirts|   102.41|           1228.92|\n",
      "|      3|          526|        13|       14|       3|2022-12-23 11:57:23|        13|      Elizabeth Neal|elizabeth.neal@ex...|       14|  Red t-shirt|T-Shirts|   121.58|            364.74|\n",
      "|      3|          997|        20|        1|      14|2022-12-23 04:02:30|        20|         Suzy Gibson|suzy.gibson@examp...|        1|   Red Shorts|  Shorts|    89.75|            1256.5|\n",
      "|      3|          281|        11|       15|      25|2022-12-23 16:07:45|        11|    Angélique Vennix|angelique.vennix@...|       15|White t-shirt|T-Shirts|   131.13|           3278.25|\n",
      "|      3|          691|        48|       23|       2|2022-12-23 08:12:00|        48|        Amoli Shenoy|amoli.shenoy@exam...|       23| Green Chinos|   Pants|   150.93|            301.86|\n",
      "|      3|          762|        17|        5|      26|2022-12-23 16:18:27|        17|Sevastiana Nester...|sevastiana.nester...|        5| Black Shorts|  Shorts|    74.58|           1939.08|\n",
      "|      3|          106|        24|       23|      11|2022-12-23 07:41:50|        24|         Bernd Colin|bernd.colin@examp...|       23| Green Chinos|   Pants|   150.93|           1660.23|\n",
      "|      3|           21|        32|        9|       2|2022-12-23 21:15:10|        32|        Ethan Little|ethan.little@exam...|        9|Green Sandals|   Shoes|   137.53|            275.06|\n",
      "|      3|          626|        14|       18|      14|2022-12-23 12:55:02|        14|      Sylvie Lecomte|sylvie.lecomte@ex...|       18|Black t-shirt|T-Shirts|   102.41|           1433.74|\n",
      "|      3|          219|        11|       15|       5|2022-12-23 13:00:17|        11|    Angélique Vennix|angelique.vennix@...|       15|White t-shirt|T-Shirts|   131.13|            655.65|\n",
      "+-------+-------------+----------+---------+--------+-------------------+----------+--------------------+--------------------+---------+-------------+--------+---------+------------------+\n",
      "only showing top 20 rows\n",
      "\n"
     ]
    }
   ],
   "source": [
    "join_df = joined_df.withColumn(\"total price\", col(\"Quantity\") * col(\"UnitPrice\"))\n",
    "join_df.show()"
   ]
  },
  {
   "cell_type": "code",
   "execution_count": 5,
   "id": "3b885ef9-768c-47a5-b41c-e94021aa6cc9",
   "metadata": {
    "tags": []
   },
   "outputs": [
    {
     "name": "stdout",
     "output_type": "stream",
     "text": [
      "+---------------+-----------------+\n",
      "|TransactionTime|       TotalSales|\n",
      "+---------------+-----------------+\n",
      "|     2022-12-23|41264.00012207031|\n",
      "+---------------+-----------------+\n",
      "\n"
     ]
    }
   ],
   "source": [
    "\n",
    "\n",
    "# Convert the \"Quantity\" column to the appropriate data type\n",
    "join_df = join_df.withColumn(\"total price\", col(\"total price\").cast(\"float\"))\n",
    "join_df= join_df.withColumn(\"TransactionTime\", join_df[\"TransactionTime\"].cast(DateType()))\n",
    "\n",
    "store1_sales_df = join_df.filter(join_df[\"StoreId\"] == 1)\n",
    "\n",
    "# Calculate the daily total sales\n",
    "daily_total_sales_store1 = store1_sales_df.groupBy(\"TransactionTime\").agg(sum(\"total price\").alias(\"TotalSales\"))\n",
    "\n",
    "# Show the results\n",
    "daily_total_sales_store1.show()"
   ]
  },
  {
   "cell_type": "code",
   "execution_count": 6,
   "id": "2dcadd92-8158-425e-8826-799e86171e4b",
   "metadata": {
    "tags": []
   },
   "outputs": [
    {
     "name": "stdout",
     "output_type": "stream",
     "text": [
      "+-----------------+\n",
      "|        MeanSales|\n",
      "+-----------------+\n",
      "|513.4598035625382|\n",
      "+-----------------+\n",
      "\n"
     ]
    }
   ],
   "source": [
    "store2_sales_df = join_df.filter(join_df[\"StoreId\"] == 2)\n",
    "\n",
    "# Calculate the mean sales\n",
    "mean_sales_store2 = store2_sales_df.select(avg(\"total price\").alias(\"MeanSales\"))\n",
    "\n",
    "# Show the results\n",
    "mean_sales_store2.show()"
   ]
  },
  {
   "cell_type": "code",
   "execution_count": 7,
   "id": "5caa7a8e-cd4a-41d5-88c7-594c37a2505b",
   "metadata": {
    "tags": []
   },
   "outputs": [
    {
     "name": "stdout",
     "output_type": "stream",
     "text": [
      "+-------+-------------+----------+---------+--------+---------------+----------+--------------------+--------------------+---------+-------------+--------+---------+-----------+\n",
      "|StoreId|TransactionId|CustomerId|ProductId|Quantity|TransactionTime|CustomerId|                Name|               Email|ProductId|         Name|Category|UnitPrice|total price|\n",
      "+-------+-------------+----------+---------+--------+---------------+----------+--------------------+--------------------+---------+-------------+--------+---------+-----------+\n",
      "|      3|          454|        35|        3|       3|     2022-12-23|        35|      Dwayne Johnson|dwayne.johnson@gm...|        3|  Blue Shorts|  Shorts|   118.88|     356.64|\n",
      "|      3|          524|        37|        9|      11|     2022-12-23|        37|       Brittany Holt|brittany.holt@exa...|        9|Green Sandals|   Shoes|   137.53|    1512.83|\n",
      "|      3|          562|         4|        3|       4|     2022-12-23|         4|       Alevtin Paska|alevtin.paska@exa...|        3|  Blue Shorts|  Shorts|   118.88|     475.52|\n",
      "|      3|          581|        35|       14|      56|     2022-12-23|        35|      Dwayne Johnson|dwayne.johnson@gm...|       14|  Red t-shirt|T-Shirts|   121.58|    6808.48|\n",
      "|      3|          200|        34|       15|      24|     2022-12-23|        34|            Avi Shet|avi.shet@example.com|       15|White t-shirt|T-Shirts|   131.13|    3147.12|\n",
      "|      3|          506|        41|       24|      19|     2022-12-23|        41|         Alice Morin|alice.morin@examp...|       24|   Blue Jeans|   Pants|    173.1|     3288.9|\n",
      "|      3|          278|         5|        1|       5|     2022-12-23|         5|      Charlotte Wong|charlotte.wong@ex...|        1|   Red Shorts|  Shorts|    89.75|     448.75|\n",
      "|      3|          849|        36|       23|      13|     2022-12-23|        36|     William Nielsen|william.nielsen@e...|       23| Green Chinos|   Pants|   150.93|    1962.09|\n",
      "|      3|          992|        34|        7|       3|     2022-12-23|        34|            Avi Shet|avi.shet@example.com|        7|White Sandals|   Shoes|   160.96|     482.88|\n",
      "|      3|          703|        19|        7|      13|     2022-12-23|        19|       Alexia Renaud|alexia.renaud@exa...|        7|White Sandals|   Shoes|   160.96|    2092.48|\n",
      "|      3|          719|        48|       18|      12|     2022-12-23|        48|        Amoli Shenoy|amoli.shenoy@exam...|       18|Black t-shirt|T-Shirts|   102.41|    1228.92|\n",
      "|      3|          526|        13|       14|       3|     2022-12-23|        13|      Elizabeth Neal|elizabeth.neal@ex...|       14|  Red t-shirt|T-Shirts|   121.58|     364.74|\n",
      "|      3|          997|        20|        1|      14|     2022-12-23|        20|         Suzy Gibson|suzy.gibson@examp...|        1|   Red Shorts|  Shorts|    89.75|     1256.5|\n",
      "|      3|          281|        11|       15|      25|     2022-12-23|        11|    Angélique Vennix|angelique.vennix@...|       15|White t-shirt|T-Shirts|   131.13|    3278.25|\n",
      "|      3|          691|        48|       23|       2|     2022-12-23|        48|        Amoli Shenoy|amoli.shenoy@exam...|       23| Green Chinos|   Pants|   150.93|     301.86|\n",
      "|      3|          762|        17|        5|      26|     2022-12-23|        17|Sevastiana Nester...|sevastiana.nester...|        5| Black Shorts|  Shorts|    74.58|    1939.08|\n",
      "|      3|          106|        24|       23|      11|     2022-12-23|        24|         Bernd Colin|bernd.colin@examp...|       23| Green Chinos|   Pants|   150.93|    1660.23|\n",
      "|      3|           21|        32|        9|       2|     2022-12-23|        32|        Ethan Little|ethan.little@exam...|        9|Green Sandals|   Shoes|   137.53|     275.06|\n",
      "|      3|          626|        14|       18|      14|     2022-12-23|        14|      Sylvie Lecomte|sylvie.lecomte@ex...|       18|Black t-shirt|T-Shirts|   102.41|    1433.74|\n",
      "|      3|          219|        11|       15|       5|     2022-12-23|        11|    Angélique Vennix|angelique.vennix@...|       15|White t-shirt|T-Shirts|   131.13|     655.65|\n",
      "+-------+-------------+----------+---------+--------+---------------+----------+--------------------+--------------------+---------+-------------+--------+---------+-----------+\n",
      "only showing top 20 rows\n",
      "\n"
     ]
    }
   ],
   "source": [
    "join_df.show()"
   ]
  },
  {
   "cell_type": "code",
   "execution_count": 8,
   "id": "0cd47d55-7160-47a3-ac10-a047bbb5e4ca",
   "metadata": {
    "tags": []
   },
   "outputs": [
    {
     "name": "stdout",
     "output_type": "stream",
     "text": [
      "+--------------------+------------------+\n",
      "|               Email|        TotalSales|\n",
      "+--------------------+------------------+\n",
      "|dwayne.johnson@gm...|10653.080017089844|\n",
      "+--------------------+------------------+\n",
      "only showing top 1 row\n",
      "\n",
      "Email of the client who spent the most: None\n"
     ]
    }
   ],
   "source": [
    "total_sales_per_customer = join_df.groupBy(\"Email\").agg(sum(\"total price\").alias(\"TotalSales\"))\n",
    "# total_sales_per_customer.sort(desc(\"TotalSales\"))\n",
    "# total_sales_per_customer.show()\n",
    "a= total_sales_per_customer.sort(desc(\"TotalSales\"))\n",
    "b=a.show(1)\n",
    "# top_customer = total_sales_per_customer.first()\n",
    "\n",
    "# Sort the total sales in descending order\n",
    "# sorted_sales = total_sales_per_customer.sort(desc(\"TotalSales\"))\n",
    "\n",
    "# # Retrieve the customer with the highestotal_salest total sales\n",
    "# top_customer = sorted_sales.first()\n",
    "\n",
    "# # Retrieve the email associated with the top customer\n",
    "# email_of_top_customer = clients_df.filter(clients_df[\"CustomerId\"] == top_customer[\"CustomerId\"]).select(\"Email\").first()[0]\n",
    "\n",
    "# # Print the email of the customer who spent the most\n",
    "print(\"Email of the client who spent the most:\", b)"
   ]
  },
  {
   "cell_type": "code",
   "execution_count": 9,
   "id": "892b574e-01a2-4b3e-9aa0-68a8cb1433a1",
   "metadata": {
    "tags": []
   },
   "outputs": [
    {
     "name": "stdout",
     "output_type": "stream",
     "text": [
      "+-------+-------------+----------+---------+--------+---------------+----------+--------------------+--------------------+-------------+--------+---------+-----------+\n",
      "|StoreId|TransactionId|CustomerId|ProductId|Quantity|TransactionTime|CustomerId|                Name|               Email|         Name|Category|UnitPrice|total price|\n",
      "+-------+-------------+----------+---------+--------+---------------+----------+--------------------+--------------------+-------------+--------+---------+-----------+\n",
      "|      3|          454|        35|        3|       3|     2022-12-23|        35|      Dwayne Johnson|dwayne.johnson@gm...|  Blue Shorts|  Shorts|   118.88|     356.64|\n",
      "|      3|          524|        37|        9|      11|     2022-12-23|        37|       Brittany Holt|brittany.holt@exa...|Green Sandals|   Shoes|   137.53|    1512.83|\n",
      "|      3|          562|         4|        3|       4|     2022-12-23|         4|       Alevtin Paska|alevtin.paska@exa...|  Blue Shorts|  Shorts|   118.88|     475.52|\n",
      "|      3|          581|        35|       14|      56|     2022-12-23|        35|      Dwayne Johnson|dwayne.johnson@gm...|  Red t-shirt|T-Shirts|   121.58|    6808.48|\n",
      "|      3|          200|        34|       15|      24|     2022-12-23|        34|            Avi Shet|avi.shet@example.com|White t-shirt|T-Shirts|   131.13|    3147.12|\n",
      "|      3|          506|        41|       24|      19|     2022-12-23|        41|         Alice Morin|alice.morin@examp...|   Blue Jeans|   Pants|    173.1|     3288.9|\n",
      "|      3|          278|         5|        1|       5|     2022-12-23|         5|      Charlotte Wong|charlotte.wong@ex...|   Red Shorts|  Shorts|    89.75|     448.75|\n",
      "|      3|          849|        36|       23|      13|     2022-12-23|        36|     William Nielsen|william.nielsen@e...| Green Chinos|   Pants|   150.93|    1962.09|\n",
      "|      3|          992|        34|        7|       3|     2022-12-23|        34|            Avi Shet|avi.shet@example.com|White Sandals|   Shoes|   160.96|     482.88|\n",
      "|      3|          703|        19|        7|      13|     2022-12-23|        19|       Alexia Renaud|alexia.renaud@exa...|White Sandals|   Shoes|   160.96|    2092.48|\n",
      "|      3|          719|        48|       18|      12|     2022-12-23|        48|        Amoli Shenoy|amoli.shenoy@exam...|Black t-shirt|T-Shirts|   102.41|    1228.92|\n",
      "|      3|          526|        13|       14|       3|     2022-12-23|        13|      Elizabeth Neal|elizabeth.neal@ex...|  Red t-shirt|T-Shirts|   121.58|     364.74|\n",
      "|      3|          997|        20|        1|      14|     2022-12-23|        20|         Suzy Gibson|suzy.gibson@examp...|   Red Shorts|  Shorts|    89.75|     1256.5|\n",
      "|      3|          281|        11|       15|      25|     2022-12-23|        11|    Angélique Vennix|angelique.vennix@...|White t-shirt|T-Shirts|   131.13|    3278.25|\n",
      "|      3|          691|        48|       23|       2|     2022-12-23|        48|        Amoli Shenoy|amoli.shenoy@exam...| Green Chinos|   Pants|   150.93|     301.86|\n",
      "|      3|          762|        17|        5|      26|     2022-12-23|        17|Sevastiana Nester...|sevastiana.nester...| Black Shorts|  Shorts|    74.58|    1939.08|\n",
      "|      3|          106|        24|       23|      11|     2022-12-23|        24|         Bernd Colin|bernd.colin@examp...| Green Chinos|   Pants|   150.93|    1660.23|\n",
      "|      3|           21|        32|        9|       2|     2022-12-23|        32|        Ethan Little|ethan.little@exam...|Green Sandals|   Shoes|   137.53|     275.06|\n",
      "|      3|          626|        14|       18|      14|     2022-12-23|        14|      Sylvie Lecomte|sylvie.lecomte@ex...|Black t-shirt|T-Shirts|   102.41|    1433.74|\n",
      "|      3|          219|        11|       15|       5|     2022-12-23|        11|    Angélique Vennix|angelique.vennix@...|White t-shirt|T-Shirts|   131.13|     655.65|\n",
      "+-------+-------------+----------+---------+--------+---------------+----------+--------------------+--------------------+-------------+--------+---------+-----------+\n",
      "only showing top 20 rows\n",
      "\n"
     ]
    }
   ],
   "source": [
    "join_df = join_df.drop(products[\"ProductId\"])\n",
    "\n",
    "# Show the updated DataFrame\n",
    "join_df.show()"
   ]
  },
  {
   "cell_type": "code",
   "execution_count": 10,
   "id": "0c0f5477-5255-4e07-b980-fcea858198ce",
   "metadata": {
    "tags": []
   },
   "outputs": [
    {
     "name": "stdout",
     "output_type": "stream",
     "text": [
      "+---------+-------------+\n",
      "|ProductId|totalQuantity|\n",
      "+---------+-------------+\n",
      "|       14|           82|\n",
      "|       24|           77|\n",
      "|       15|           76|\n",
      "|        5|           75|\n",
      "|       19|           74|\n",
      "+---------+-------------+\n",
      "\n"
     ]
    }
   ],
   "source": [
    "# Assuming you have a joined DataFrame named 'joined_df' with the required columns\n",
    "\n",
    "# Group by ProductId and count the occurrences\n",
    "product_count_df = join_df.groupBy(\"ProductId\").agg(sum(\"Quantity\").alias(\"totalQuantity\"))\n",
    "\n",
    "# Order by count in descending order\n",
    "ordered_product_count_df = product_count_df.orderBy(\"totalQuantity\", ascending=False)\n",
    "\n",
    "# Select the top 5 most frequently bought products\n",
    "top_5_products = ordered_product_count_df.limit(5)\n",
    "\n",
    "# Show the resulting DataFrame\n",
    "top_5_products.show()"
   ]
  },
  {
   "cell_type": "code",
   "execution_count": 11,
   "id": "203f6189-6152-456d-b9b1-caa31149c44c",
   "metadata": {
    "tags": []
   },
   "outputs": [
    {
     "name": "stdout",
     "output_type": "stream",
     "text": [
      "+---------+-------------+---------+-------------+--------+---------+\n",
      "|ProductId|totalQuantity|ProductId|         Name|Category|UnitPrice|\n",
      "+---------+-------------+---------+-------------+--------+---------+\n",
      "|       14|           82|       14|  Red t-shirt|T-Shirts|   121.58|\n",
      "|       24|           77|       24|   Blue Jeans|   Pants|    173.1|\n",
      "|       15|           76|       15|White t-shirt|T-Shirts|   131.13|\n",
      "|        5|           75|        5| Black Shorts|  Shorts|    74.58|\n",
      "|       19|           74|       19| Green jacket| Jackets|   223.69|\n",
      "+---------+-------------+---------+-------------+--------+---------+\n",
      "\n"
     ]
    }
   ],
   "source": [
    "join_condition = top_5_products[\"ProductId\"] == products[\"ProductId\"]\n",
    "joined_df = top_5_products.join(products,join_condition)\n",
    "joined_df.orderBy(\"totalQuantity\", ascending=False).show(5)"
   ]
  },
  {
   "cell_type": "code",
   "execution_count": null,
   "id": "36d47058-92f1-42bb-90a7-c1552ce95ab1",
   "metadata": {},
   "outputs": [],
   "source": []
  }
 ],
 "metadata": {
  "kernelspec": {
   "display_name": "Python 3 (ipykernel)",
   "language": "python",
   "name": "python3"
  },
  "language_info": {
   "codemirror_mode": {
    "name": "ipython",
    "version": 3
   },
   "file_extension": ".py",
   "mimetype": "text/x-python",
   "name": "python",
   "nbconvert_exporter": "python",
   "pygments_lexer": "ipython3",
   "version": "3.10.9"
  }
 },
 "nbformat": 4,
 "nbformat_minor": 5
}
