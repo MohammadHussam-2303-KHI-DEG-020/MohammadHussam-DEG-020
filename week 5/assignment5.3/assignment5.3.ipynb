{
 "cells": [
  {
   "cell_type": "markdown",
   "id": "246a2f9d-bc46-4151-ad5b-b87555f3030b",
   "metadata": {},
   "source": [
    "## Import the necessary modules ##"
   ]
  },
  {
   "cell_type": "code",
   "execution_count": 1,
   "id": "346c3310-3f01-4730-8a53-299a24b078ed",
   "metadata": {},
   "outputs": [],
   "source": [
    "from pyspark.sql import SparkSession\n",
    "from pyspark.sql.types import *\n",
    "from pyspark.sql.functions import *\n",
    "\n"
   ]
  },
  {
   "cell_type": "markdown",
   "id": "615a577b-c742-4bfa-abda-d79f880941a9",
   "metadata": {},
   "source": [
    "## creating spark session ## "
   ]
  },
  {
   "cell_type": "code",
   "execution_count": 2,
   "id": "f4b14019-8239-4c00-8d35-7ba5e09ce0f9",
   "metadata": {},
   "outputs": [
    {
     "name": "stderr",
     "output_type": "stream",
     "text": [
      "23/05/21 19:37:12 WARN Utils: Your hostname, mhussam resolves to a loopback address: 127.0.1.1; using 192.168.185.62 instead (on interface wlp3s0)\n",
      "23/05/21 19:37:12 WARN Utils: Set SPARK_LOCAL_IP if you need to bind to another address\n",
      "Setting default log level to \"WARN\".\n",
      "To adjust logging level use sc.setLogLevel(newLevel). For SparkR, use setLogLevel(newLevel).\n",
      "23/05/21 19:37:13 WARN NativeCodeLoader: Unable to load native-hadoop library for your platform... using builtin-java classes where applicable\n",
      "23/05/21 19:37:14 WARN Utils: Service 'SparkUI' could not bind on port 4040. Attempting port 4041.\n",
      "23/05/21 19:37:14 WARN Utils: Service 'SparkUI' could not bind on port 4041. Attempting port 4042.\n",
      "23/05/21 19:37:14 WARN Utils: Service 'SparkUI' could not bind on port 4042. Attempting port 4043.\n",
      "23/05/21 19:37:14 WARN Utils: Service 'SparkUI' could not bind on port 4043. Attempting port 4044.\n"
     ]
    }
   ],
   "source": [
    "spark = SparkSession.builder.appName(\"PySpark_assign\").getOrCreate()"
   ]
  },
  {
   "cell_type": "markdown",
   "id": "e49ca9e2-d13f-4002-9d90-9e8fc25b3fa2",
   "metadata": {},
   "source": [
    "## Reading the data from the CSV file into a DataFrame ##"
   ]
  },
  {
   "cell_type": "code",
   "execution_count": 3,
   "id": "b0f44c08-e769-4744-b682-f54c40e4831a",
   "metadata": {},
   "outputs": [
    {
     "name": "stdout",
     "output_type": "stream",
     "text": [
      "+-----------+--------+------+--------------------+------+----+-----+-----+----------------+-------+-----+--------+-------------------+\n",
      "|PassengerId|Survived|Pclass|                Name|   Sex| Age|SibSp|Parch|          Ticket|   Fare|Cabin|Embarked|          Timestamp|\n",
      "+-----------+--------+------+--------------------+------+----+-----+-----+----------------+-------+-----+--------+-------------------+\n",
      "|          1|       0|     3|Braund, Mr. Owen ...|  male|  22|    1|    0|       A/5 21171|   7.25| null|       S|2020-01-01 13:45:25|\n",
      "|          2|       1|     1|Cumings, Mrs. Joh...|female|  38|    1|    0|        PC 17599|71.2833|  C85|       C|2020-01-01 13:44:48|\n",
      "|          3|       1|     3|Heikkinen, Miss. ...|female|  26|    0|    0|STON/O2. 3101282|  7.925| null|       S|2020-01-01 13:38:11|\n",
      "|          4|       1|     1|Futrelle, Mrs. Ja...|female|  35|    1|    0|          113803|   53.1| C123|       S|2020-01-01 13:32:00|\n",
      "|          5|       0|     3|Allen, Mr. Willia...|  male|  35|    0|    0|          373450|   8.05| null|       S|2020-01-01 13:36:30|\n",
      "|          6|       0|     3|    Moran, Mr. James|  male|null|    0|    0|          330877| 8.4583| null|       Q|2020-01-01 13:31:39|\n",
      "|          7|       0|     1|McCarthy, Mr. Tim...|  male|  54|    0|    0|           17463|51.8625|  E46|       S|2020-01-01 13:37:31|\n",
      "|          8|       0|     3|Palsson, Master. ...|  male|   2|    3|    1|          349909| 21.075| null|       S|2020-01-01 13:49:08|\n",
      "|          9|       1|     3|Johnson, Mrs. Osc...|female|  27|    0|    2|          347742|11.1333| null|       S|2020-01-01 13:33:42|\n",
      "|         10|       1|     2|Nasser, Mrs. Nich...|female|  14|    1|    0|          237736|30.0708| null|       C|2020-01-01 13:32:53|\n",
      "|         11|       1|     3|Sandstrom, Miss. ...|female|   4|    1|    1|         PP 9549|   16.7|   G6|       S|2020-01-01 13:32:23|\n",
      "|         12|       1|     1|Bonnell, Miss. El...|female|  58|    0|    0|          113783|  26.55| C103|       S|2020-01-01 13:30:12|\n",
      "|         13|       0|     3|Saundercock, Mr. ...|  male|  20|    0|    0|       A/5. 2151|   8.05| null|       S|2020-01-01 13:33:34|\n",
      "|         14|       0|     3|Andersson, Mr. An...|  male|  39|    1|    5|          347082| 31.275| null|       S|2020-01-01 13:30:20|\n",
      "|         15|       0|     3|Vestrom, Miss. Hu...|female|  14|    0|    0|          350406| 7.8542| null|       S|2020-01-01 13:41:17|\n",
      "|         16|       1|     2|Hewlett, Mrs. (Ma...|female|  55|    0|    0|          248706|   16.0| null|       S|2020-01-01 13:34:22|\n",
      "|         17|       0|     3|Rice, Master. Eugene|  male|   2|    4|    1|          382652| 29.125| null|       Q|2020-01-01 13:41:55|\n",
      "|         18|       1|     2|Williams, Mr. Cha...|  male|null|    0|    0|          244373|   13.0| null|       S|2020-01-01 13:39:35|\n",
      "|         19|       0|     3|Vander Planke, Mr...|female|  31|    1|    0|          345763|   18.0| null|       S|2020-01-01 13:39:38|\n",
      "|         20|       1|     3|Masselmani, Mrs. ...|female|null|    0|    0|            2649|  7.225| null|       C|2020-01-01 13:36:56|\n",
      "+-----------+--------+------+--------------------+------+----+-----+-----+----------------+-------+-----+--------+-------------------+\n",
      "only showing top 20 rows\n",
      "\n"
     ]
    }
   ],
   "source": [
    "titanic = spark.read.option(\"header\", \"true\").option(\"inferSchema\", \"true\").option(\"header\", \"false\").csv(\"data/titanic.csv\")\n",
    "## Defining  the column names for header row\n",
    "columns = [\"PassengerId\", \"Survived\", \"Pclass\", \"Name\", \"Sex\", \"Age\", \"SibSp\", \"Parch\", \"Ticket\", \"Fare\", \"Cabin\", \"Embarked\", \"Timestamp\"]\n",
    "#Adding the column names as header row in the DataFrame\n",
    "titanic = titanic.toDF(*columns)\n",
    "titanic.show()\n",
    "\n"
   ]
  },
  {
   "cell_type": "markdown",
   "id": "4172f443-ee56-42bd-bbe5-794833301bed",
   "metadata": {},
   "source": [
    "## Displaying the Dataframe schema ##"
   ]
  },
  {
   "cell_type": "code",
   "execution_count": 4,
   "id": "f292917d-0614-48b0-827c-8852d1cf4eec",
   "metadata": {},
   "outputs": [
    {
     "name": "stdout",
     "output_type": "stream",
     "text": [
      "root\n",
      " |-- PassengerId: integer (nullable = true)\n",
      " |-- Survived: integer (nullable = true)\n",
      " |-- Pclass: integer (nullable = true)\n",
      " |-- Name: string (nullable = true)\n",
      " |-- Sex: string (nullable = true)\n",
      " |-- Age: integer (nullable = true)\n",
      " |-- SibSp: integer (nullable = true)\n",
      " |-- Parch: integer (nullable = true)\n",
      " |-- Ticket: string (nullable = true)\n",
      " |-- Fare: double (nullable = true)\n",
      " |-- Cabin: string (nullable = true)\n",
      " |-- Embarked: string (nullable = true)\n",
      " |-- Timestamp: timestamp (nullable = true)\n",
      "\n"
     ]
    }
   ],
   "source": [
    "titanic.printSchema()"
   ]
  },
  {
   "cell_type": "markdown",
   "id": "cbc7540e-f5e7-4c58-8525-3d0da0c990cb",
   "metadata": {},
   "source": [
    "## modified the schema by changing the data type of the \"Survived\" column to string and converting the binary values into strings for categorization purposes ##"
   ]
  },
  {
   "cell_type": "code",
   "execution_count": 5,
   "id": "587b41c0-fa44-4c2c-8be2-5a7e103b5002",
   "metadata": {},
   "outputs": [
    {
     "name": "stdout",
     "output_type": "stream",
     "text": [
      "+-----------+--------+------+--------------------+------+----+-----+-----+----------------+-------+-----+--------+-------------------+\n",
      "|PassengerId|Survived|Pclass|                Name|   Sex| Age|SibSp|Parch|          Ticket|   Fare|Cabin|Embarked|          Timestamp|\n",
      "+-----------+--------+------+--------------------+------+----+-----+-----+----------------+-------+-----+--------+-------------------+\n",
      "|          1|      NO|     3|Braund, Mr. Owen ...|  male|  22|    1|    0|       A/5 21171|   7.25| null|       S|2020-01-01 13:45:25|\n",
      "|          2|     YES|     1|Cumings, Mrs. Joh...|female|  38|    1|    0|        PC 17599|71.2833|  C85|       C|2020-01-01 13:44:48|\n",
      "|          3|     YES|     3|Heikkinen, Miss. ...|female|  26|    0|    0|STON/O2. 3101282|  7.925| null|       S|2020-01-01 13:38:11|\n",
      "|          4|     YES|     1|Futrelle, Mrs. Ja...|female|  35|    1|    0|          113803|   53.1| C123|       S|2020-01-01 13:32:00|\n",
      "|          5|      NO|     3|Allen, Mr. Willia...|  male|  35|    0|    0|          373450|   8.05| null|       S|2020-01-01 13:36:30|\n",
      "|          6|      NO|     3|    Moran, Mr. James|  male|null|    0|    0|          330877| 8.4583| null|       Q|2020-01-01 13:31:39|\n",
      "|          7|      NO|     1|McCarthy, Mr. Tim...|  male|  54|    0|    0|           17463|51.8625|  E46|       S|2020-01-01 13:37:31|\n",
      "|          8|      NO|     3|Palsson, Master. ...|  male|   2|    3|    1|          349909| 21.075| null|       S|2020-01-01 13:49:08|\n",
      "|          9|     YES|     3|Johnson, Mrs. Osc...|female|  27|    0|    2|          347742|11.1333| null|       S|2020-01-01 13:33:42|\n",
      "|         10|     YES|     2|Nasser, Mrs. Nich...|female|  14|    1|    0|          237736|30.0708| null|       C|2020-01-01 13:32:53|\n",
      "|         11|     YES|     3|Sandstrom, Miss. ...|female|   4|    1|    1|         PP 9549|   16.7|   G6|       S|2020-01-01 13:32:23|\n",
      "|         12|     YES|     1|Bonnell, Miss. El...|female|  58|    0|    0|          113783|  26.55| C103|       S|2020-01-01 13:30:12|\n",
      "|         13|      NO|     3|Saundercock, Mr. ...|  male|  20|    0|    0|       A/5. 2151|   8.05| null|       S|2020-01-01 13:33:34|\n",
      "|         14|      NO|     3|Andersson, Mr. An...|  male|  39|    1|    5|          347082| 31.275| null|       S|2020-01-01 13:30:20|\n",
      "|         15|      NO|     3|Vestrom, Miss. Hu...|female|  14|    0|    0|          350406| 7.8542| null|       S|2020-01-01 13:41:17|\n",
      "|         16|     YES|     2|Hewlett, Mrs. (Ma...|female|  55|    0|    0|          248706|   16.0| null|       S|2020-01-01 13:34:22|\n",
      "|         17|      NO|     3|Rice, Master. Eugene|  male|   2|    4|    1|          382652| 29.125| null|       Q|2020-01-01 13:41:55|\n",
      "|         18|     YES|     2|Williams, Mr. Cha...|  male|null|    0|    0|          244373|   13.0| null|       S|2020-01-01 13:39:35|\n",
      "|         19|      NO|     3|Vander Planke, Mr...|female|  31|    1|    0|          345763|   18.0| null|       S|2020-01-01 13:39:38|\n",
      "|         20|     YES|     3|Masselmani, Mrs. ...|female|null|    0|    0|            2649|  7.225| null|       C|2020-01-01 13:36:56|\n",
      "+-----------+--------+------+--------------------+------+----+-----+-----+----------------+-------+-----+--------+-------------------+\n",
      "only showing top 20 rows\n",
      "\n"
     ]
    }
   ],
   "source": [
    "titanic = titanic.withColumn(\"Survived\", when(col(\"Survived\") == 1, \"YES\").otherwise(\"NO\").cast(\"string\"))\n",
    "titanic.show()\n"
   ]
  },
  {
   "cell_type": "code",
   "execution_count": 6,
   "id": "41f79426-23a6-45ef-8f79-70cd15bd38c3",
   "metadata": {},
   "outputs": [
    {
     "name": "stdout",
     "output_type": "stream",
     "text": [
      "root\n",
      " |-- PassengerId: integer (nullable = true)\n",
      " |-- Survived: string (nullable = false)\n",
      " |-- Pclass: integer (nullable = true)\n",
      " |-- Name: string (nullable = true)\n",
      " |-- Sex: string (nullable = true)\n",
      " |-- Age: integer (nullable = true)\n",
      " |-- SibSp: integer (nullable = true)\n",
      " |-- Parch: integer (nullable = true)\n",
      " |-- Ticket: string (nullable = true)\n",
      " |-- Fare: double (nullable = true)\n",
      " |-- Cabin: string (nullable = true)\n",
      " |-- Embarked: string (nullable = true)\n",
      " |-- Timestamp: timestamp (nullable = true)\n",
      "\n"
     ]
    }
   ],
   "source": [
    "## updated schema \n",
    "titanic.printSchema()"
   ]
  },
  {
   "cell_type": "code",
   "execution_count": 7,
   "id": "dc7323df-b689-46d6-8cff-17c0acfb9125",
   "metadata": {},
   "outputs": [
    {
     "name": "stdout",
     "output_type": "stream",
     "text": [
      "+-----------+--------+------+--------------------+------+---+-----+-----+----------------+-------+-----+--------+-------------------+\n",
      "|PassengerId|Survived|Pclass|                Name|   Sex|Age|SibSp|Parch|          Ticket|   Fare|Cabin|Embarked|          Timestamp|\n",
      "+-----------+--------+------+--------------------+------+---+-----+-----+----------------+-------+-----+--------+-------------------+\n",
      "|          1|      NO|     3|Braund, Mr. Owen ...|  male| 22|    1|    0|       A/5 21171|   7.25| null|       S|2020-01-01 13:45:25|\n",
      "|          2|     YES|     1|Cumings, Mrs. Joh...|female| 38|    1|    0|        PC 17599|71.2833|  C85|       C|2020-01-01 13:44:48|\n",
      "|          3|     YES|     3|Heikkinen, Miss. ...|female| 26|    0|    0|STON/O2. 3101282|  7.925| null|       S|2020-01-01 13:38:11|\n",
      "|          4|     YES|     1|Futrelle, Mrs. Ja...|female| 35|    1|    0|          113803|   53.1| C123|       S|2020-01-01 13:32:00|\n",
      "|          5|      NO|     3|Allen, Mr. Willia...|  male| 35|    0|    0|          373450|   8.05| null|       S|2020-01-01 13:36:30|\n",
      "+-----------+--------+------+--------------------+------+---+-----+-----+----------------+-------+-----+--------+-------------------+\n",
      "only showing top 5 rows\n",
      "\n"
     ]
    }
   ],
   "source": [
    "titanic.show(5)"
   ]
  },
  {
   "cell_type": "markdown",
   "id": "59384760-6021-4b49-9129-20fce1dec8ae",
   "metadata": {},
   "source": [
    "### Calculating the minimum, maximum and mean values of the numerical data ##"
   ]
  },
  {
   "cell_type": "code",
   "execution_count": 8,
   "id": "7d0ff977-9975-41a8-ab13-871d18799d25",
   "metadata": {},
   "outputs": [
    {
     "name": "stderr",
     "output_type": "stream",
     "text": [
      "23/05/21 19:37:21 WARN package: Truncated the string representation of a plan since it was too large. This behavior can be adjusted by setting 'spark.sql.debug.maxToStringFields'.\n"
     ]
    },
    {
     "name": "stdout",
     "output_type": "stream",
     "text": [
      "+-------+------------------+------------------+------------------+------------------+-----------------+------------------+\n",
      "|summary|       PassengerId|            Pclass|               Age|             SibSp|            Parch|              Fare|\n",
      "+-------+------------------+------------------+------------------+------------------+-----------------+------------------+\n",
      "|    min|                 1|0.8360712409770491|                 0|                 0|                0|               0.0|\n",
      "|    max|               891|               891|                80|               891|              891|               891|\n",
      "|   mean|497.27076840304596|179.62894264325715|167.64315089562422|180.12515025772694|179.6375301872114|297.04536731315113|\n",
      "+-------+------------------+------------------+------------------+------------------+-----------------+------------------+\n",
      "\n"
     ]
    }
   ],
   "source": [
    "numerical_cols = [col_name for col_name, col_type in titanic.dtypes if col_type in ['int', 'bigint', 'float', 'double']]\n",
    "numerical_df = titanic.select(*numerical_cols)\n",
    "\n",
    "\n",
    "min_max_mean=numerical_df.describe()\n",
    "min_max_mean.select(numerical_cols).summary('min','max','mean').show()"
   ]
  },
  {
   "cell_type": "markdown",
   "id": "839e6e5f-1938-4dda-b0d0-2e66afcf814e",
   "metadata": {},
   "source": [
    "#### For categorical columns, create and apply UDF that will change the last letter of every word to “1”"
   ]
  },
  {
   "cell_type": "code",
   "execution_count": 9,
   "id": "05a006f3-0416-409c-bcb6-3eb0dc6d20b7",
   "metadata": {},
   "outputs": [
    {
     "name": "stderr",
     "output_type": "stream",
     "text": [
      "[Stage 8:>                                                          (0 + 1) / 1]\r"
     ]
    },
    {
     "name": "stdout",
     "output_type": "stream",
     "text": [
      "+-----------+--------+------+--------------------+------+----+-----+-----+----------------+-------+-----+--------+-------------------+\n",
      "|PassengerId|Survived|Pclass|                Name|   Sex| Age|SibSp|Parch|          Ticket|   Fare|Cabin|Embarked|          Timestamp|\n",
      "+-----------+--------+------+--------------------+------+----+-----+-----+----------------+-------+-----+--------+-------------------+\n",
      "|          1|      N1|     3|Braund, Mr. Owen ...|  mal1|  22|    1|    0|       A/5 21171|   7.25| null|       1|2020-01-01 13:45:25|\n",
      "|          2|     YE1|     1|Cumings, Mrs. Joh...|femal1|  38|    1|    0|        PC 17599|71.2833|  C81|       1|2020-01-01 13:44:48|\n",
      "|          3|     YE1|     3|Heikkinen, Miss. ...|femal1|  26|    0|    0|STON/O2. 3101282|  7.925| null|       1|2020-01-01 13:38:11|\n",
      "|          4|     YE1|     1|Futrelle, Mrs. Ja...|femal1|  35|    1|    0|          113803|   53.1| C121|       1|2020-01-01 13:32:00|\n",
      "|          5|      N1|     3|Allen, Mr. Willia...|  mal1|  35|    0|    0|          373450|   8.05| null|       1|2020-01-01 13:36:30|\n",
      "|          6|      N1|     3|    Moran, Mr. James|  mal1|null|    0|    0|          330877| 8.4583| null|       1|2020-01-01 13:31:39|\n",
      "|          7|      N1|     1|McCarthy, Mr. Tim...|  mal1|  54|    0|    0|           17463|51.8625|  E41|       1|2020-01-01 13:37:31|\n",
      "|          8|      N1|     3|Palsson, Master. ...|  mal1|   2|    3|    1|          349909| 21.075| null|       1|2020-01-01 13:49:08|\n",
      "|          9|     YE1|     3|Johnson, Mrs. Osc...|femal1|  27|    0|    2|          347742|11.1333| null|       1|2020-01-01 13:33:42|\n",
      "|         10|     YE1|     2|Nasser, Mrs. Nich...|femal1|  14|    1|    0|          237736|30.0708| null|       1|2020-01-01 13:32:53|\n",
      "+-----------+--------+------+--------------------+------+----+-----+-----+----------------+-------+-----+--------+-------------------+\n",
      "only showing top 10 rows\n",
      "\n"
     ]
    },
    {
     "name": "stderr",
     "output_type": "stream",
     "text": [
      "                                                                                \r"
     ]
    }
   ],
   "source": [
    "cat_columns = [\"Sex\",\"Cabin\",\"Embarked\",\"Survived\"]\n",
    "\n",
    "def change_last_letter_after_space(word):\n",
    "    if word is not None:\n",
    "        words = word.split()\n",
    "        for i in range(len(words)):\n",
    "            words[i] = words[i][:-1] + \"1\"\n",
    "        return \" \".join(words)\n",
    "    return word\n",
    "change_last_letter_udf = udf(change_last_letter_after_space, StringType())\n",
    "for column in cat_columns:\n",
    "    titanic = titanic.withColumn(column, change_last_letter_udf(titanic[column]))\n",
    "titanic.show(10)\n",
    "    "
   ]
  },
  {
   "cell_type": "markdown",
   "id": "759c1d3e-b2a4-4c82-a769-5855aa410531",
   "metadata": {},
   "source": [
    "## sorting the df by first column "
   ]
  },
  {
   "cell_type": "code",
   "execution_count": 10,
   "id": "eea71402-8a38-4948-a690-5d7e77069369",
   "metadata": {},
   "outputs": [],
   "source": [
    "sorted_df = titanic.orderBy(col(titanic.columns[0]))"
   ]
  },
  {
   "cell_type": "markdown",
   "id": "f305259a-55e2-4a8f-a276-27eae87066bc",
   "metadata": {},
   "source": [
    "## saving the results to the Parquet file."
   ]
  },
  {
   "cell_type": "code",
   "execution_count": 11,
   "id": "020a8b5f-f1ac-4836-984e-701b82556d51",
   "metadata": {},
   "outputs": [
    {
     "name": "stderr",
     "output_type": "stream",
     "text": [
      "                                                                                \r"
     ]
    }
   ],
   "source": [
    "sorted_df.write.mode(\"overwrite\").parquet(\"output/titanic_data.parquet\")"
   ]
  },
  {
   "cell_type": "code",
   "execution_count": null,
   "id": "7e29720b-fe5f-4c00-ac28-e3903af97b00",
   "metadata": {},
   "outputs": [],
   "source": []
  }
 ],
 "metadata": {
  "kernelspec": {
   "display_name": "Python 3 (ipykernel)",
   "language": "python",
   "name": "python3"
  },
  "language_info": {
   "codemirror_mode": {
    "name": "ipython",
    "version": 3
   },
   "file_extension": ".py",
   "mimetype": "text/x-python",
   "name": "python",
   "nbconvert_exporter": "python",
   "pygments_lexer": "ipython3",
   "version": "3.10.6"
  }
 },
 "nbformat": 4,
 "nbformat_minor": 5
}
