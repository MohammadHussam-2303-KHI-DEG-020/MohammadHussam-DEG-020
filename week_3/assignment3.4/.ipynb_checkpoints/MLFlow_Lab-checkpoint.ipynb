{
 "cells": [
  {
   "cell_type": "code",
   "execution_count": 1,
   "id": "98007f5d-4638-4e8e-b8f6-fc88c7c10e53",
   "metadata": {
    "tags": []
   },
   "outputs": [
    {
     "name": "stdout",
     "output_type": "stream",
     "text": [
      "/home/maviaalamkhan/Downloads/maviaxloop/bin/python\n"
     ]
    }
   ],
   "source": [
    "!python -c \"import sys; print(sys.executable)\""
   ]
  },
  {
   "cell_type": "markdown",
   "id": "30fc0892-2f9b-411a-8859-80ee9a8501d9",
   "metadata": {},
   "source": [
    "# MLFlow lab"
   ]
  },
  {
   "cell_type": "code",
   "execution_count": 2,
   "id": "927f1855-de23-43cc-ad1c-ee2a0dd03ccd",
   "metadata": {
    "tags": []
   },
   "outputs": [],
   "source": [
    "import pandas as pd"
   ]
  },
  {
   "cell_type": "code",
   "execution_count": 3,
   "id": "8dd234da-9558-48a2-ac9e-b558660da1a6",
   "metadata": {
    "tags": []
   },
   "outputs": [
    {
     "data": {
      "text/plain": [
       "'2.0.0'"
      ]
     },
     "execution_count": 3,
     "metadata": {},
     "output_type": "execute_result"
    }
   ],
   "source": [
    "pd.__version__"
   ]
  },
  {
   "cell_type": "markdown",
   "id": "87a0110c-4c87-40c3-af3b-75072bb6f210",
   "metadata": {
    "tags": []
   },
   "source": [
    "### Setting up MLFlow tracking server\n",
    "\n",
    "We also specify artifact root and backend store URI. This makes it possible to store models.\n",
    "\n",
    "After running this command tracking server will be accessible at `localhost:5000`"
   ]
  },
  {
   "cell_type": "code",
   "execution_count": 4,
   "id": "b915f9e2-3f6e-46f4-8308-98a5330d400c",
   "metadata": {
    "tags": []
   },
   "outputs": [],
   "source": [
    "%%bash --bg\n",
    "\n",
    "mlflow server --host 0.0.0.0 \\\n",
    "    --port 5000 \\\n",
    "    --backend-store-uri sqlite:///mlflow.db \\\n",
    "    --default-artifact-root ./mlruns"
   ]
  },
  {
   "cell_type": "markdown",
   "id": "5f3df5d7-871f-44bb-ab96-bed4ab51857d",
   "metadata": {},
   "source": [
    "### MLProject file\n",
    "\n",
    "This file is used to configure MLFlow steps.\n",
    "\n",
    "Using `MLproject` we can define our project's pipeline steps, called *entry points*.\n",
    "\n",
    "Each entry point in this file corresponds to a shell command.\n",
    "\n",
    "Entry points can be ran using\n",
    "\n",
    "```\n",
    "mlflow run -e <ENTRY_POINT>\n",
    "```\n",
    "\n",
    "By default `mlflow run` runs `main` entrypoint."
   ]
  },
  {
   "cell_type": "code",
   "execution_count": 5,
   "id": "1999ca3a-1538-43a1-9a26-552924809051",
   "metadata": {
    "tags": []
   },
   "outputs": [
    {
     "name": "stdout",
     "output_type": "stream",
     "text": [
      "name: basic_mlflow\n",
      "\n",
      "# this file is used to configure Python package dependencies.\n",
      "# it uses Anaconda, but it can be also alternatively configured to use pip.\n",
      "conda_env: conda.yaml\n",
      "\n",
      "# entry points can be ran using `mlflow run <project_name> -e <entry_point_name>\n",
      "entry_points:\n",
      "  # download_data:\n",
      "    # you can run any command using MLFlow\n",
      "    # command: \"bash download_data.sh\"\n",
      "  # MLproject file has to have main entry_point. It can be toggled without using -e option.\n",
      "  main:\n",
      "    # parameters is a key-value collection.\n",
      "    parameters:\n",
      "      file_name:\n",
      "        type: str\n",
      "        default: \"data.csv\"\n",
      "      max_n:\n",
      "        type: int\n",
      "        default: 100\n",
      "    command: \"python train.py {file_name} {max_n}\"\n",
      "\n"
     ]
    }
   ],
   "source": [
    "%cat MLproject"
   ]
  },
  {
   "cell_type": "markdown",
   "id": "f1ad96ca-ea8a-4ed7-a989-b0ef65b3337d",
   "metadata": {},
   "source": [
    "First we need to download data. We will use weather data from previous machine learning tutorial."
   ]
  },
  {
   "cell_type": "code",
   "execution_count": 6,
   "id": "1bebda26-7710-4658-821f-6d471379f2ae",
   "metadata": {
    "tags": []
   },
   "outputs": [
    {
     "name": "stderr",
     "output_type": "stream",
     "text": [
      "Traceback (most recent call last):\n",
      "  File \"/home/maviaalamkhan/Documents/mlop/data_engineering_bootcamp_2303/tasks/3_machine_learning_essentials/day_4_mlops/mlops-student/bin/mlflow\", line 10, in <module>\n",
      "    sys.exit(cli())\n",
      "  File \"/home/maviaalamkhan/Documents/mlop/data_engineering_bootcamp_2303/tasks/3_machine_learning_essentials/day_4_mlops/mlops-student/lib/python3.10/site-packages/click/core.py\", line 1130, in __call__\n",
      "    return self.main(*args, **kwargs)\n",
      "  File \"/home/maviaalamkhan/Documents/mlop/data_engineering_bootcamp_2303/tasks/3_machine_learning_essentials/day_4_mlops/mlops-student/lib/python3.10/site-packages/click/core.py\", line 1055, in main\n",
      "    rv = self.invoke(ctx)\n",
      "  File \"/home/maviaalamkhan/Documents/mlop/data_engineering_bootcamp_2303/tasks/3_machine_learning_essentials/day_4_mlops/mlops-student/lib/python3.10/site-packages/click/core.py\", line 1657, in invoke\n",
      "    return _process_result(sub_ctx.command.invoke(sub_ctx))\n",
      "  File \"/home/maviaalamkhan/Documents/mlop/data_engineering_bootcamp_2303/tasks/3_machine_learning_essentials/day_4_mlops/mlops-student/lib/python3.10/site-packages/click/core.py\", line 1404, in invoke\n",
      "    return ctx.invoke(self.callback, **ctx.params)\n",
      "  File \"/home/maviaalamkhan/Documents/mlop/data_engineering_bootcamp_2303/tasks/3_machine_learning_essentials/day_4_mlops/mlops-student/lib/python3.10/site-packages/click/core.py\", line 760, in invoke\n",
      "    return __callback(*args, **kwargs)\n",
      "  File \"/home/maviaalamkhan/Documents/mlop/data_engineering_bootcamp_2303/tasks/3_machine_learning_essentials/day_4_mlops/mlops-student/lib/python3.10/site-packages/mlflow/cli.py\", line 202, in run\n",
      "    projects.run(\n",
      "  File \"/home/maviaalamkhan/Documents/mlop/data_engineering_bootcamp_2303/tasks/3_machine_learning_essentials/day_4_mlops/mlops-student/lib/python3.10/site-packages/mlflow/projects/__init__.py\", line 338, in run\n",
      "    submitted_run_obj = _run(\n",
      "  File \"/home/maviaalamkhan/Documents/mlop/data_engineering_bootcamp_2303/tasks/3_machine_learning_essentials/day_4_mlops/mlops-student/lib/python3.10/site-packages/mlflow/projects/__init__.py\", line 105, in _run\n",
      "    submitted_run = backend.run(\n",
      "  File \"/home/maviaalamkhan/Documents/mlop/data_engineering_bootcamp_2303/tasks/3_machine_learning_essentials/day_4_mlops/mlops-student/lib/python3.10/site-packages/mlflow/projects/backend/local.py\", line 89, in run\n",
      "    active_run = get_or_create_run(\n",
      "  File \"/home/maviaalamkhan/Documents/mlop/data_engineering_bootcamp_2303/tasks/3_machine_learning_essentials/day_4_mlops/mlops-student/lib/python3.10/site-packages/mlflow/projects/utils.py\", line 260, in get_or_create_run\n",
      "    return _create_run(uri, experiment_id, work_dir, version, entry_point, parameters)\n",
      "  File \"/home/maviaalamkhan/Documents/mlop/data_engineering_bootcamp_2303/tasks/3_machine_learning_essentials/day_4_mlops/mlops-student/lib/python3.10/site-packages/mlflow/projects/utils.py\", line 300, in _create_run\n",
      "    active_run = tracking.MlflowClient().create_run(experiment_id=experiment_id, tags=tags)\n",
      "  File \"/home/maviaalamkhan/Documents/mlop/data_engineering_bootcamp_2303/tasks/3_machine_learning_essentials/day_4_mlops/mlops-student/lib/python3.10/site-packages/mlflow/tracking/client.py\", line 280, in create_run\n",
      "    return self._tracking_client.create_run(experiment_id, start_time, tags, run_name)\n",
      "  File \"/home/maviaalamkhan/Documents/mlop/data_engineering_bootcamp_2303/tasks/3_machine_learning_essentials/day_4_mlops/mlops-student/lib/python3.10/site-packages/mlflow/tracking/_tracking_service/client.py\", line 131, in create_run\n",
      "    return self.store.create_run(\n",
      "  File \"/home/maviaalamkhan/Documents/mlop/data_engineering_bootcamp_2303/tasks/3_machine_learning_essentials/day_4_mlops/mlops-student/lib/python3.10/site-packages/mlflow/store/tracking/rest_store.py\", line 175, in create_run\n",
      "    response_proto = self._call_endpoint(CreateRun, req_body)\n",
      "  File \"/home/maviaalamkhan/Documents/mlop/data_engineering_bootcamp_2303/tasks/3_machine_learning_essentials/day_4_mlops/mlops-student/lib/python3.10/site-packages/mlflow/store/tracking/rest_store.py\", line 56, in _call_endpoint\n",
      "    return call_endpoint(self.get_host_creds(), endpoint, method, json_body, response_proto)\n",
      "  File \"/home/maviaalamkhan/Documents/mlop/data_engineering_bootcamp_2303/tasks/3_machine_learning_essentials/day_4_mlops/mlops-student/lib/python3.10/site-packages/mlflow/utils/rest_utils.py\", line 303, in call_endpoint\n",
      "    response = verify_rest_response(response, endpoint)\n",
      "  File \"/home/maviaalamkhan/Documents/mlop/data_engineering_bootcamp_2303/tasks/3_machine_learning_essentials/day_4_mlops/mlops-student/lib/python3.10/site-packages/mlflow/utils/rest_utils.py\", line 227, in verify_rest_response\n",
      "    raise RestException(json.loads(response.text))\n",
      "mlflow.exceptions.RestException: INTERNAL_ERROR: Response: {'detail': 'Not Found'}\n"
     ]
    },
    {
     "ename": "CalledProcessError",
     "evalue": "Command 'b'source mlflow_env_vars.sh\\nmlflow run .  -e download_data\\n'' returned non-zero exit status 1.",
     "output_type": "error",
     "traceback": [
      "\u001b[0;31m---------------------------------------------------------------------------\u001b[0m",
      "\u001b[0;31mCalledProcessError\u001b[0m                        Traceback (most recent call last)",
      "Cell \u001b[0;32mIn[6], line 1\u001b[0m\n\u001b[0;32m----> 1\u001b[0m \u001b[43mget_ipython\u001b[49m\u001b[43m(\u001b[49m\u001b[43m)\u001b[49m\u001b[38;5;241;43m.\u001b[39;49m\u001b[43mrun_cell_magic\u001b[49m\u001b[43m(\u001b[49m\u001b[38;5;124;43m'\u001b[39;49m\u001b[38;5;124;43mbash\u001b[39;49m\u001b[38;5;124;43m'\u001b[39;49m\u001b[43m,\u001b[49m\u001b[43m \u001b[49m\u001b[38;5;124;43m'\u001b[39;49m\u001b[38;5;124;43m'\u001b[39;49m\u001b[43m,\u001b[49m\u001b[43m \u001b[49m\u001b[38;5;124;43m'\u001b[39;49m\u001b[38;5;124;43msource mlflow_env_vars.sh\u001b[39;49m\u001b[38;5;130;43;01m\\n\u001b[39;49;00m\u001b[38;5;124;43mmlflow run .  -e download_data\u001b[39;49m\u001b[38;5;130;43;01m\\n\u001b[39;49;00m\u001b[38;5;124;43m'\u001b[39;49m\u001b[43m)\u001b[49m\n",
      "File \u001b[0;32m~/.local/lib/python3.10/site-packages/IPython/core/interactiveshell.py:2475\u001b[0m, in \u001b[0;36mInteractiveShell.run_cell_magic\u001b[0;34m(self, magic_name, line, cell)\u001b[0m\n\u001b[1;32m   2473\u001b[0m \u001b[38;5;28;01mwith\u001b[39;00m \u001b[38;5;28mself\u001b[39m\u001b[38;5;241m.\u001b[39mbuiltin_trap:\n\u001b[1;32m   2474\u001b[0m     args \u001b[38;5;241m=\u001b[39m (magic_arg_s, cell)\n\u001b[0;32m-> 2475\u001b[0m     result \u001b[38;5;241m=\u001b[39m \u001b[43mfn\u001b[49m\u001b[43m(\u001b[49m\u001b[38;5;241;43m*\u001b[39;49m\u001b[43margs\u001b[49m\u001b[43m,\u001b[49m\u001b[43m \u001b[49m\u001b[38;5;241;43m*\u001b[39;49m\u001b[38;5;241;43m*\u001b[39;49m\u001b[43mkwargs\u001b[49m\u001b[43m)\u001b[49m\n\u001b[1;32m   2477\u001b[0m \u001b[38;5;66;03m# The code below prevents the output from being displayed\u001b[39;00m\n\u001b[1;32m   2478\u001b[0m \u001b[38;5;66;03m# when using magics with decodator @output_can_be_silenced\u001b[39;00m\n\u001b[1;32m   2479\u001b[0m \u001b[38;5;66;03m# when the last Python token in the expression is a ';'.\u001b[39;00m\n\u001b[1;32m   2480\u001b[0m \u001b[38;5;28;01mif\u001b[39;00m \u001b[38;5;28mgetattr\u001b[39m(fn, magic\u001b[38;5;241m.\u001b[39mMAGIC_OUTPUT_CAN_BE_SILENCED, \u001b[38;5;28;01mFalse\u001b[39;00m):\n",
      "File \u001b[0;32m~/.local/lib/python3.10/site-packages/IPython/core/magics/script.py:153\u001b[0m, in \u001b[0;36mScriptMagics._make_script_magic.<locals>.named_script_magic\u001b[0;34m(line, cell)\u001b[0m\n\u001b[1;32m    151\u001b[0m \u001b[38;5;28;01melse\u001b[39;00m:\n\u001b[1;32m    152\u001b[0m     line \u001b[38;5;241m=\u001b[39m script\n\u001b[0;32m--> 153\u001b[0m \u001b[38;5;28;01mreturn\u001b[39;00m \u001b[38;5;28;43mself\u001b[39;49m\u001b[38;5;241;43m.\u001b[39;49m\u001b[43mshebang\u001b[49m\u001b[43m(\u001b[49m\u001b[43mline\u001b[49m\u001b[43m,\u001b[49m\u001b[43m \u001b[49m\u001b[43mcell\u001b[49m\u001b[43m)\u001b[49m\n",
      "File \u001b[0;32m~/.local/lib/python3.10/site-packages/IPython/core/magics/script.py:305\u001b[0m, in \u001b[0;36mScriptMagics.shebang\u001b[0;34m(self, line, cell)\u001b[0m\n\u001b[1;32m    300\u001b[0m \u001b[38;5;28;01mif\u001b[39;00m args\u001b[38;5;241m.\u001b[39mraise_error \u001b[38;5;129;01mand\u001b[39;00m p\u001b[38;5;241m.\u001b[39mreturncode \u001b[38;5;241m!=\u001b[39m \u001b[38;5;241m0\u001b[39m:\n\u001b[1;32m    301\u001b[0m     \u001b[38;5;66;03m# If we get here and p.returncode is still None, we must have\u001b[39;00m\n\u001b[1;32m    302\u001b[0m     \u001b[38;5;66;03m# killed it but not yet seen its return code. We don't wait for it,\u001b[39;00m\n\u001b[1;32m    303\u001b[0m     \u001b[38;5;66;03m# in case it's stuck in uninterruptible sleep. -9 = SIGKILL\u001b[39;00m\n\u001b[1;32m    304\u001b[0m     rc \u001b[38;5;241m=\u001b[39m p\u001b[38;5;241m.\u001b[39mreturncode \u001b[38;5;129;01mor\u001b[39;00m \u001b[38;5;241m-\u001b[39m\u001b[38;5;241m9\u001b[39m\n\u001b[0;32m--> 305\u001b[0m     \u001b[38;5;28;01mraise\u001b[39;00m CalledProcessError(rc, cell)\n",
      "\u001b[0;31mCalledProcessError\u001b[0m: Command 'b'source mlflow_env_vars.sh\\nmlflow run .  -e download_data\\n'' returned non-zero exit status 1."
     ]
    }
   ],
   "source": [
    "# %%bash\n",
    "# source mlflow_env_vars.sh\n",
    "# mlflow run .  -e download_data"
   ]
  },
  {
   "cell_type": "markdown",
   "id": "0a7fd2b5-536f-46f5-88d6-1e2693c473f8",
   "metadata": {},
   "source": [
    "## Training\n",
    "\n",
    "Now we can train models. See `train.py`.\n",
    "It contains code from supervised machine learning tutorial; we added tracking metrics and model.\n",
    "\n",
    "We will train kNN models for $k \\in \\{1, 2, ..., 10\\}$ using *temperature* and *casual* features.\n",
    "\n",
    "After running this command you can go to `localhost:5000` and see the trained models."
   ]
  },
  {
   "cell_type": "code",
   "execution_count": null,
   "id": "728ad762-eae9-4448-821e-542e3a584c02",
   "metadata": {},
   "outputs": [],
   "source": [
    "import sklearn"
   ]
  },
  {
   "cell_type": "code",
   "execution_count": null,
   "id": "ac5438a4-abe7-4d62-93e2-7cb45129b060",
   "metadata": {},
   "outputs": [],
   "source": [
    "sklearn.__version__"
   ]
  },
  {
   "cell_type": "code",
   "execution_count": null,
   "id": "d0c428dd-75c9-4968-bcce-4e43960ef309",
   "metadata": {},
   "outputs": [],
   "source": [
    "%%bash\n",
    "source mlflow_env_vars.sh\n",
    "mlflow run . "
   ]
  },
  {
   "cell_type": "markdown",
   "id": "c60189ad-f9df-4fee-b866-7fd2fc326336",
   "metadata": {},
   "source": [
    "## Inspecting stored models\n",
    "\n",
    "The trained models are stored in `mlruns/0`.\n",
    "\n",
    "These directories contain artifacts and config that is needed to serve them."
   ]
  },
  {
   "cell_type": "code",
   "execution_count": null,
   "id": "e839cd69-ab87-4810-8d8f-458866a1ff8d",
   "metadata": {},
   "outputs": [],
   "source": [
    "%%bash\n",
    "last_model_path=$(ls -tr mlruns/0/ | tail -1)\n",
    "cat mlruns/0/$last_model_path/artifacts/knn/MLmodel"
   ]
  },
  {
   "cell_type": "code",
   "execution_count": null,
   "id": "ae7a3b10-e73e-458e-a86d-73c5353af294",
   "metadata": {},
   "outputs": [],
   "source": [
    "import mlflow"
   ]
  },
  {
   "cell_type": "code",
   "execution_count": null,
   "id": "b492d50f-9d12-4c97-a697-bacd34eba1b8",
   "metadata": {},
   "outputs": [],
   "source": [
    "mlflow.__version__"
   ]
  },
  {
   "cell_type": "markdown",
   "id": "4a4654c1-33c9-49d1-bfac-d8090dec79f1",
   "metadata": {},
   "source": [
    "## Serving model\n",
    "\n",
    "Now that we trained our models we can go to *Models* page on MLFLow UI (http://localhost:5000/#/models).\n",
    "\n",
    "Click *sklearn_knn* on this page, choose a model and move it to *Production* stage.\n",
    "\n",
    "The following cell will serve the model at localhost on port 5001."
   ]
  },
  {
   "cell_type": "code",
   "execution_count": null,
   "id": "ef644f7b-ad7e-4a3b-8b4e-df6a20e85290",
   "metadata": {},
   "outputs": [],
   "source": [
    "%%bash --bg\n",
    "source mlflow_env_vars.sh\n",
    "mlflow --version\n",
    "mlflow models serve -m models:/sklearn_knn/Production -p 5001 --env-manager=conda \n"
   ]
  },
  {
   "cell_type": "markdown",
   "id": "7f81d979-a94c-4307-a5f6-cd95a5c4eeff",
   "metadata": {},
   "source": [
    "# Prediction\n",
    "\n",
    "We'll load data that we can feed into prediction server."
   ]
  },
  {
   "cell_type": "code",
   "execution_count": null,
   "id": "d684121e-1ce1-433c-9349-9ef539e3f36b",
   "metadata": {},
   "outputs": [],
   "source": [
    "df = pd.read_csv(\"day.csv\")[[\"temp\", \"casual\", \"season\"]]\n",
    "df[\"is_winter\"] = df[\"season\"] == 1\n",
    "\n",
    "df[~df[\"is_winter\"]].head()"
   ]
  },
  {
   "cell_type": "markdown",
   "id": "2516ceaf-45b5-4d67-a63d-048cc8086d63",
   "metadata": {},
   "source": [
    "Let's predict for first winter day and first non-winter day (first rows of previous two dataframes)\n",
    "\n",
    "**warning: this might fail at first because the prediction server didn't spin up; in this case wait a minute**"
   ]
  },
  {
   "cell_type": "code",
   "execution_count": null,
   "id": "650174ad-bb37-4fe3-b450-b8ba7889bfe6",
   "metadata": {},
   "outputs": [],
   "source": [
    "%%bash\n",
    "data='[[0.344,331], [0.43, 401]]'\n",
    "echo $data\n",
    "\n",
    "curl -d \"{\\\"inputs\\\": $data}\" -H 'Content-Type: application/json' 127.0.0.1:5001/invocations"
   ]
  },
  {
   "cell_type": "code",
   "execution_count": null,
   "id": "61bf3366-18cc-4bcd-a927-f7211d9e3b7c",
   "metadata": {},
   "outputs": [],
   "source": [
    "%%bash\n",
    "data='[[0.344,331], [0.43, 401]]'\n",
    "echo $data\n",
    "\n",
    "curl -d \"{\\\"instances\\\": $data}\" -H 'Content-Type: application/json' 127.0.0.1:5001/invocations"
   ]
  },
  {
   "cell_type": "code",
   "execution_count": null,
   "id": "e8d788af-af76-4616-9377-4accb1f29696",
   "metadata": {},
   "outputs": [],
   "source": [
    "%%bash\n",
    "data='[[0.344,331], [0.43, 401]]'\n",
    "columns='[\"temp\",\"casual\"]'\n",
    "echo $data\n",
    "\n",
    "curl -d \"{\\\"dataframe_split\\\":{\\\"columns\\\":[\\\"temp\\\",\\\"casual\\\"],\\\"data\\\": $data}}\" -H 'Content-Type: application/json' 127.0.0.1:5001/invocations"
   ]
  },
  {
   "cell_type": "markdown",
   "id": "d4abd689-28c3-4abb-8465-4035d3fa780c",
   "metadata": {},
   "source": [
    "Voila! We see that the model outputs correct predictions."
   ]
  }
 ],
 "metadata": {
  "kernelspec": {
   "display_name": "Python 3 (ipykernel)",
   "language": "python",
   "name": "python3"
  },
  "language_info": {
   "codemirror_mode": {
    "name": "ipython",
    "version": 3
   },
   "file_extension": ".py",
   "mimetype": "text/x-python",
   "name": "python",
   "nbconvert_exporter": "python",
   "pygments_lexer": "ipython3",
   "version": "3.10.9"
  }
 },
 "nbformat": 4,
 "nbformat_minor": 5
}
