{
 "cells": [
  {
   "cell_type": "code",
   "execution_count": 1,
   "id": "98007f5d-4638-4e8e-b8f6-fc88c7c10e53",
   "metadata": {
    "tags": []
   },
   "outputs": [
    {
     "name": "stdout",
     "output_type": "stream",
     "text": [
      "/home/maviaalamkhan/Documents/mlop/data_engineering_bootcamp_2303/tasks/3_machine_learning_essentials/day_4_mlops/mlops-student/bin/python\n"
     ]
    }
   ],
   "source": [
    "!python -c \"import sys; print(sys.executable)\""
   ]
  },
  {
   "attachments": {},
   "cell_type": "markdown",
   "id": "30fc0892-2f9b-411a-8859-80ee9a8501d9",
   "metadata": {},
   "source": [
    "# MLFlow lab"
   ]
  },
  {
   "cell_type": "code",
   "execution_count": 2,
   "id": "927f1855-de23-43cc-ad1c-ee2a0dd03ccd",
   "metadata": {
    "tags": []
   },
   "outputs": [],
   "source": [
    "import pandas as pd"
   ]
  },
  {
   "cell_type": "code",
   "execution_count": 3,
   "id": "8dd234da-9558-48a2-ac9e-b558660da1a6",
   "metadata": {
    "tags": []
   },
   "outputs": [
    {
     "data": {
      "text/plain": [
       "'2.0.1'"
      ]
     },
     "execution_count": 3,
     "metadata": {},
     "output_type": "execute_result"
    }
   ],
   "source": [
    "pd.__version__"
   ]
  },
  {
   "attachments": {},
   "cell_type": "markdown",
   "id": "87a0110c-4c87-40c3-af3b-75072bb6f210",
   "metadata": {
    "tags": []
   },
   "source": [
    "### Setting up MLFlow tracking server\n",
    "\n",
    "We also specify artifact root and backend store URI. This makes it possible to store models.\n",
    "\n",
    "After running this command tracking server will be accessible at `localhost:5000`"
   ]
  },
  {
   "cell_type": "code",
   "execution_count": 4,
   "id": "b915f9e2-3f6e-46f4-8308-98a5330d400c",
   "metadata": {
    "tags": []
   },
   "outputs": [],
   "source": [
    "%%bash --bg\n",
    "\n",
    "mlflow server --host 0.0.0.0 \\\n",
    "    --port 5000 \\\n",
    "    --backend-store-uri sqlite:///mlflow.db \\\n",
    "    --default-artifact-root ./mlruns"
   ]
  },
  {
   "attachments": {},
   "cell_type": "markdown",
   "id": "5f3df5d7-871f-44bb-ab96-bed4ab51857d",
   "metadata": {},
   "source": [
    "### MLProject file\n",
    "\n",
    "This file is used to configure MLFlow steps.\n",
    "\n",
    "Using `MLproject` we can define our project's pipeline steps, called *entry points*.\n",
    "\n",
    "Each entry point in this file corresponds to a shell command.\n",
    "\n",
    "Entry points can be ran using\n",
    "\n",
    "```\n",
    "mlflow run -e <ENTRY_POINT>\n",
    "```\n",
    "\n",
    "By default `mlflow run` runs `main` entrypoint."
   ]
  },
  {
   "cell_type": "code",
   "execution_count": 5,
   "id": "1999ca3a-1538-43a1-9a26-552924809051",
   "metadata": {
    "tags": []
   },
   "outputs": [
    {
     "name": "stdout",
     "output_type": "stream",
     "text": [
      "name: basic_mlflow\n",
      "\n",
      "# this file is used to configure Python package dependencies.\n",
      "# it uses Anaconda, but it can be also alternatively configured to use pip.\n",
      "conda_env: conda.yaml\n",
      "\n",
      "# entry points can be ran using `mlflow run <project_name> -e <entry_point_name>\n",
      "entry_points:\n",
      "  # download_data:\n",
      "    # you can run any command using MLFlow\n",
      "    # command: \"bash download_data.sh\"\n",
      "  # MLproject file has to have main entry_point. It can be toggled without using -e option.\n",
      "  main:\n",
      "    # parameters is a key-value collection.\n",
      "    parameters:\n",
      "      file_name:\n",
      "        type: str\n",
      "        default: \"winequalityN.csv\"\n",
      "      max_n:\n",
      "        type: int\n",
      "        default: 100\n",
      "    command: \"python train.py {file_name} {max_n}\"\n",
      "\n"
     ]
    }
   ],
   "source": [
    "%cat MLproject"
   ]
  },
  {
   "attachments": {},
   "cell_type": "markdown",
   "id": "f1ad96ca-ea8a-4ed7-a989-b0ef65b3337d",
   "metadata": {},
   "source": [
    "First we need to download data. We will use weather data from previous machine learning tutorial."
   ]
  },
  {
   "cell_type": "code",
   "execution_count": 6,
   "id": "1bebda26-7710-4658-821f-6d471379f2ae",
   "metadata": {
    "tags": []
   },
   "outputs": [],
   "source": []
  },
  {
   "attachments": {},
   "cell_type": "markdown",
   "id": "0a7fd2b5-536f-46f5-88d6-1e2693c473f8",
   "metadata": {},
   "source": [
    "## Training\n",
    "\n",
    "Now we can train models. See `train.py`.\n",
    "It contains code from supervised machine learning tutorial; we added tracking metrics and model.\n",
    "\n",
    "We will train kNN models for $k \\in \\{1, 2, ..., 10\\}$ using *temperature* and *casual* features.\n",
    "\n",
    "After running this command you can go to `localhost:5000` and see the trained models."
   ]
  },
  {
   "cell_type": "code",
   "execution_count": 7,
   "id": "728ad762-eae9-4448-821e-542e3a584c02",
   "metadata": {},
   "outputs": [],
   "source": [
    "import sklearn"
   ]
  },
  {
   "cell_type": "code",
   "execution_count": 8,
   "id": "ac5438a4-abe7-4d62-93e2-7cb45129b060",
   "metadata": {},
   "outputs": [
    {
     "data": {
      "text/plain": [
       "'1.2.2'"
      ]
     },
     "execution_count": 8,
     "metadata": {},
     "output_type": "execute_result"
    }
   ],
   "source": [
    "sklearn.__version__"
   ]
  },
  {
   "cell_type": "code",
   "execution_count": 9,
   "id": "49ffe06c",
   "metadata": {},
   "outputs": [
    {
     "name": "stdout",
     "output_type": "stream",
     "text": [
      "Requirement already satisfied: fire in ./mlops-student/lib/python3.10/site-packages (0.5.0)\n",
      "Requirement already satisfied: termcolor in ./mlops-student/lib/python3.10/site-packages (from fire) (2.3.0)\n",
      "Requirement already satisfied: six in ./mlops-student/lib/python3.10/site-packages (from fire) (1.16.0)\n",
      "\n",
      "\u001b[1m[\u001b[0m\u001b[34;49mnotice\u001b[0m\u001b[1;39;49m]\u001b[0m\u001b[39;49m A new release of pip is available: \u001b[0m\u001b[31;49m23.0.1\u001b[0m\u001b[39;49m -> \u001b[0m\u001b[32;49m23.1.2\u001b[0m\n",
      "\u001b[1m[\u001b[0m\u001b[34;49mnotice\u001b[0m\u001b[1;39;49m]\u001b[0m\u001b[39;49m To update, run: \u001b[0m\u001b[32;49mpip install --upgrade pip\u001b[0m\n"
     ]
    }
   ],
   "source": [
    "! pip install fire\n",
    "import fire"
   ]
  },
  {
   "cell_type": "code",
   "execution_count": 10,
   "id": "412623a6",
   "metadata": {},
   "outputs": [
    {
     "name": "stdout",
     "output_type": "stream",
     "text": [
      "Requirement already satisfied: mlflow in ./mlops-student/lib/python3.10/site-packages (2.3.1)\n",
      "Requirement already satisfied: alembic!=1.10.0,<2 in ./mlops-student/lib/python3.10/site-packages (from mlflow) (1.10.4)\n",
      "Requirement already satisfied: pytz<2024 in ./mlops-student/lib/python3.10/site-packages (from mlflow) (2023.3)\n",
      "Requirement already satisfied: gitpython<4,>=2.1.0 in ./mlops-student/lib/python3.10/site-packages (from mlflow) (3.1.31)\n",
      "Requirement already satisfied: entrypoints<1 in ./mlops-student/lib/python3.10/site-packages (from mlflow) (0.4)\n",
      "Requirement already satisfied: sqlalchemy<3,>=1.4.0 in ./mlops-student/lib/python3.10/site-packages (from mlflow) (2.0.12)\n",
      "Requirement already satisfied: Jinja2<4,>=2.11 in ./mlops-student/lib/python3.10/site-packages (from mlflow) (3.1.2)\n",
      "Requirement already satisfied: packaging<24 in ./mlops-student/lib/python3.10/site-packages (from mlflow) (23.1)\n",
      "Requirement already satisfied: requests<3,>=2.17.3 in ./mlops-student/lib/python3.10/site-packages (from mlflow) (2.30.0)\n",
      "Requirement already satisfied: markdown<4,>=3.3 in ./mlops-student/lib/python3.10/site-packages (from mlflow) (3.4.3)\n",
      "Requirement already satisfied: numpy<2 in ./mlops-student/lib/python3.10/site-packages (from mlflow) (1.24.3)\n",
      "Requirement already satisfied: Flask<3 in ./mlops-student/lib/python3.10/site-packages (from mlflow) (2.3.2)\n",
      "Requirement already satisfied: pandas<3 in ./mlops-student/lib/python3.10/site-packages (from mlflow) (2.0.1)\n",
      "Requirement already satisfied: protobuf<5,>=3.12.0 in ./mlops-student/lib/python3.10/site-packages (from mlflow) (4.22.4)\n",
      "Requirement already satisfied: scikit-learn<2 in ./mlops-student/lib/python3.10/site-packages (from mlflow) (1.2.2)\n",
      "Requirement already satisfied: cloudpickle<3 in ./mlops-student/lib/python3.10/site-packages (from mlflow) (2.2.1)\n",
      "Requirement already satisfied: gunicorn<21 in ./mlops-student/lib/python3.10/site-packages (from mlflow) (20.1.0)\n",
      "Requirement already satisfied: pyyaml<7,>=5.1 in ./mlops-student/lib/python3.10/site-packages (from mlflow) (6.0)\n",
      "Requirement already satisfied: importlib-metadata!=4.7.0,<7,>=3.7.0 in ./mlops-student/lib/python3.10/site-packages (from mlflow) (6.6.0)\n",
      "Requirement already satisfied: querystring-parser<2 in ./mlops-student/lib/python3.10/site-packages (from mlflow) (1.2.4)\n",
      "Requirement already satisfied: sqlparse<1,>=0.4.0 in ./mlops-student/lib/python3.10/site-packages (from mlflow) (0.4.4)\n",
      "Requirement already satisfied: databricks-cli<1,>=0.8.7 in ./mlops-student/lib/python3.10/site-packages (from mlflow) (0.17.6)\n",
      "Requirement already satisfied: docker<7,>=4.0.0 in ./mlops-student/lib/python3.10/site-packages (from mlflow) (6.0.1)\n",
      "Requirement already satisfied: scipy<2 in ./mlops-student/lib/python3.10/site-packages (from mlflow) (1.10.1)\n",
      "Requirement already satisfied: pyarrow<12,>=4.0.0 in ./mlops-student/lib/python3.10/site-packages (from mlflow) (11.0.0)\n",
      "Requirement already satisfied: click<9,>=7.0 in ./mlops-student/lib/python3.10/site-packages (from mlflow) (8.1.3)\n",
      "Requirement already satisfied: matplotlib<4 in ./mlops-student/lib/python3.10/site-packages (from mlflow) (3.7.1)\n",
      "Requirement already satisfied: Mako in ./mlops-student/lib/python3.10/site-packages (from alembic!=1.10.0,<2->mlflow) (1.2.4)\n",
      "Requirement already satisfied: typing-extensions>=4 in ./mlops-student/lib/python3.10/site-packages (from alembic!=1.10.0,<2->mlflow) (4.5.0)\n",
      "Requirement already satisfied: pyjwt>=1.7.0 in ./mlops-student/lib/python3.10/site-packages (from databricks-cli<1,>=0.8.7->mlflow) (2.6.0)\n",
      "Requirement already satisfied: tabulate>=0.7.7 in ./mlops-student/lib/python3.10/site-packages (from databricks-cli<1,>=0.8.7->mlflow) (0.9.0)\n",
      "Requirement already satisfied: six>=1.10.0 in ./mlops-student/lib/python3.10/site-packages (from databricks-cli<1,>=0.8.7->mlflow) (1.16.0)\n",
      "Requirement already satisfied: oauthlib>=3.1.0 in ./mlops-student/lib/python3.10/site-packages (from databricks-cli<1,>=0.8.7->mlflow) (3.2.2)\n",
      "Requirement already satisfied: urllib3>=1.26.0 in ./mlops-student/lib/python3.10/site-packages (from docker<7,>=4.0.0->mlflow) (2.0.2)\n",
      "Requirement already satisfied: websocket-client>=0.32.0 in ./mlops-student/lib/python3.10/site-packages (from docker<7,>=4.0.0->mlflow) (1.5.1)\n",
      "Requirement already satisfied: itsdangerous>=2.1.2 in ./mlops-student/lib/python3.10/site-packages (from Flask<3->mlflow) (2.1.2)\n",
      "Requirement already satisfied: blinker>=1.6.2 in ./mlops-student/lib/python3.10/site-packages (from Flask<3->mlflow) (1.6.2)\n",
      "Requirement already satisfied: Werkzeug>=2.3.3 in ./mlops-student/lib/python3.10/site-packages (from Flask<3->mlflow) (2.3.3)\n",
      "Requirement already satisfied: gitdb<5,>=4.0.1 in ./mlops-student/lib/python3.10/site-packages (from gitpython<4,>=2.1.0->mlflow) (4.0.10)\n",
      "Requirement already satisfied: setuptools>=3.0 in ./mlops-student/lib/python3.10/site-packages (from gunicorn<21->mlflow) (67.6.1)\n",
      "Requirement already satisfied: zipp>=0.5 in ./mlops-student/lib/python3.10/site-packages (from importlib-metadata!=4.7.0,<7,>=3.7.0->mlflow) (3.15.0)\n",
      "Requirement already satisfied: MarkupSafe>=2.0 in ./mlops-student/lib/python3.10/site-packages (from Jinja2<4,>=2.11->mlflow) (2.1.2)\n",
      "Requirement already satisfied: kiwisolver>=1.0.1 in ./mlops-student/lib/python3.10/site-packages (from matplotlib<4->mlflow) (1.4.4)\n",
      "Requirement already satisfied: pillow>=6.2.0 in ./mlops-student/lib/python3.10/site-packages (from matplotlib<4->mlflow) (9.5.0)\n",
      "Requirement already satisfied: python-dateutil>=2.7 in ./mlops-student/lib/python3.10/site-packages (from matplotlib<4->mlflow) (2.8.2)\n",
      "Requirement already satisfied: cycler>=0.10 in ./mlops-student/lib/python3.10/site-packages (from matplotlib<4->mlflow) (0.11.0)\n",
      "Requirement already satisfied: pyparsing>=2.3.1 in ./mlops-student/lib/python3.10/site-packages (from matplotlib<4->mlflow) (3.0.9)\n",
      "Requirement already satisfied: fonttools>=4.22.0 in ./mlops-student/lib/python3.10/site-packages (from matplotlib<4->mlflow) (4.39.3)\n",
      "Requirement already satisfied: contourpy>=1.0.1 in ./mlops-student/lib/python3.10/site-packages (from matplotlib<4->mlflow) (1.0.7)\n",
      "Requirement already satisfied: tzdata>=2022.1 in ./mlops-student/lib/python3.10/site-packages (from pandas<3->mlflow) (2023.3)\n",
      "Requirement already satisfied: charset-normalizer<4,>=2 in ./mlops-student/lib/python3.10/site-packages (from requests<3,>=2.17.3->mlflow) (3.1.0)\n",
      "Requirement already satisfied: idna<4,>=2.5 in ./mlops-student/lib/python3.10/site-packages (from requests<3,>=2.17.3->mlflow) (3.4)\n",
      "Requirement already satisfied: certifi>=2017.4.17 in ./mlops-student/lib/python3.10/site-packages (from requests<3,>=2.17.3->mlflow) (2022.12.7)\n",
      "Requirement already satisfied: threadpoolctl>=2.0.0 in ./mlops-student/lib/python3.10/site-packages (from scikit-learn<2->mlflow) (3.1.0)\n",
      "Requirement already satisfied: joblib>=1.1.1 in ./mlops-student/lib/python3.10/site-packages (from scikit-learn<2->mlflow) (1.2.0)\n",
      "Requirement already satisfied: greenlet!=0.4.17 in ./mlops-student/lib/python3.10/site-packages (from sqlalchemy<3,>=1.4.0->mlflow) (2.0.2)\n",
      "Requirement already satisfied: smmap<6,>=3.0.1 in ./mlops-student/lib/python3.10/site-packages (from gitdb<5,>=4.0.1->gitpython<4,>=2.1.0->mlflow) (5.0.0)\n",
      "\n",
      "\u001b[1m[\u001b[0m\u001b[34;49mnotice\u001b[0m\u001b[1;39;49m]\u001b[0m\u001b[39;49m A new release of pip is available: \u001b[0m\u001b[31;49m23.0.1\u001b[0m\u001b[39;49m -> \u001b[0m\u001b[32;49m23.1.2\u001b[0m\n",
      "\u001b[1m[\u001b[0m\u001b[34;49mnotice\u001b[0m\u001b[1;39;49m]\u001b[0m\u001b[39;49m To update, run: \u001b[0m\u001b[32;49mpip install --upgrade pip\u001b[0m\n"
     ]
    }
   ],
   "source": [
    "! pip install mlflow"
   ]
  },
  {
   "cell_type": "code",
   "execution_count": 11,
   "id": "d0c428dd-75c9-4968-bcce-4e43960ef309",
   "metadata": {},
   "outputs": [
    {
     "name": "stderr",
     "output_type": "stream",
     "text": [
      "2023/05/08 15:43:38 INFO mlflow.utils.conda: Conda environment mlflow-dd0fbdd40ba98798131458f29496394bd1a3fb33 already exists.\n",
      "2023/05/08 15:43:38 INFO mlflow.projects.utils: === Created directory /tmp/tmp_7ucltb7 for downloading remote URIs passed to arguments of type 'path' ===\n",
      "2023/05/08 15:43:38 INFO mlflow.projects.backend.local: === Running command 'source /home/maviaalamkhan/anaconda3/bin/../etc/profile.d/conda.sh && conda activate mlflow-dd0fbdd40ba98798131458f29496394bd1a3fb33 1>&2 && python train.py winequalityN.csv 100' in run with ID '953f804dd20344dca2b8450eb56c1776' === \n",
      "/home/maviaalamkhan/Documents/mlop/data_engineering_bootcamp_2303/tasks/3_machine_learning_essentials/day_4_mlops/mlops-student/lib/python3.10/site-packages/sklearn/pipeline.py:405: DataConversionWarning: A column-vector y was passed when a 1d array was expected. Please change the shape of y to (n_samples,), for example using ravel().\n",
      "  self._final_estimator.fit(Xt, y, **fit_params_last_step)\n",
      "/home/maviaalamkhan/Documents/mlop/data_engineering_bootcamp_2303/tasks/3_machine_learning_essentials/day_4_mlops/mlops-student/lib/python3.10/site-packages/_distutils_hack/__init__.py:33: UserWarning: Setuptools is replacing distutils.\n",
      "  warnings.warn(\"Setuptools is replacing distutils.\")\n",
      "Registered model 'sklearn_rfc' already exists. Creating a new version of this model...\n",
      "2023/05/08 15:43:42 INFO mlflow.tracking._model_registry.client: Waiting up to 300 seconds for model version to finish creation. Model name: sklearn_rfc, version 21\n",
      "Created version '21' of model 'sklearn_rfc'.\n",
      "/home/maviaalamkhan/Documents/mlop/data_engineering_bootcamp_2303/tasks/3_machine_learning_essentials/day_4_mlops/mlops-student/lib/python3.10/site-packages/sklearn/pipeline.py:405: DataConversionWarning: A column-vector y was passed when a 1d array was expected. Please change the shape of y to (n_samples,), for example using ravel().\n",
      "  self._final_estimator.fit(Xt, y, **fit_params_last_step)\n",
      "Registered model 'sklearn_rfc' already exists. Creating a new version of this model...\n",
      "2023/05/08 15:43:44 INFO mlflow.tracking._model_registry.client: Waiting up to 300 seconds for model version to finish creation. Model name: sklearn_rfc, version 22\n",
      "Created version '22' of model 'sklearn_rfc'.\n",
      "/home/maviaalamkhan/Documents/mlop/data_engineering_bootcamp_2303/tasks/3_machine_learning_essentials/day_4_mlops/mlops-student/lib/python3.10/site-packages/sklearn/pipeline.py:405: DataConversionWarning: A column-vector y was passed when a 1d array was expected. Please change the shape of y to (n_samples,), for example using ravel().\n",
      "  self._final_estimator.fit(Xt, y, **fit_params_last_step)\n",
      "Registered model 'sklearn_rfc' already exists. Creating a new version of this model...\n",
      "2023/05/08 15:43:46 INFO mlflow.tracking._model_registry.client: Waiting up to 300 seconds for model version to finish creation. Model name: sklearn_rfc, version 23\n",
      "Created version '23' of model 'sklearn_rfc'.\n",
      "/home/maviaalamkhan/Documents/mlop/data_engineering_bootcamp_2303/tasks/3_machine_learning_essentials/day_4_mlops/mlops-student/lib/python3.10/site-packages/sklearn/pipeline.py:405: DataConversionWarning: A column-vector y was passed when a 1d array was expected. Please change the shape of y to (n_samples,), for example using ravel().\n",
      "  self._final_estimator.fit(Xt, y, **fit_params_last_step)\n",
      "Registered model 'sklearn_rfc' already exists. Creating a new version of this model...\n",
      "2023/05/08 15:43:49 INFO mlflow.tracking._model_registry.client: Waiting up to 300 seconds for model version to finish creation. Model name: sklearn_rfc, version 24\n",
      "Created version '24' of model 'sklearn_rfc'.\n",
      "/home/maviaalamkhan/Documents/mlop/data_engineering_bootcamp_2303/tasks/3_machine_learning_essentials/day_4_mlops/mlops-student/lib/python3.10/site-packages/sklearn/pipeline.py:405: DataConversionWarning: A column-vector y was passed when a 1d array was expected. Please change the shape of y to (n_samples,), for example using ravel().\n",
      "  self._final_estimator.fit(Xt, y, **fit_params_last_step)\n",
      "Registered model 'sklearn_rfc' already exists. Creating a new version of this model...\n",
      "2023/05/08 15:43:51 INFO mlflow.tracking._model_registry.client: Waiting up to 300 seconds for model version to finish creation. Model name: sklearn_rfc, version 25\n",
      "Created version '25' of model 'sklearn_rfc'.\n",
      "2023/05/08 15:43:51 INFO mlflow.projects: === Run (ID '953f804dd20344dca2b8450eb56c1776') succeeded ===\n"
     ]
    }
   ],
   "source": [
    "%%bash\n",
    "source mlflow_env_vars.sh\n",
    "mlflow run . "
   ]
  },
  {
   "cell_type": "code",
   "execution_count": 15,
   "id": "e839cd69-ab87-4810-8d8f-458866a1ff8d",
   "metadata": {},
   "outputs": [
    {
     "name": "stdout",
     "output_type": "stream",
     "text": [
      "artifact_path: rfc\n",
      "flavors:\n",
      "  python_function:\n",
      "    env:\n",
      "      conda: conda.yaml\n",
      "      virtualenv: python_env.yaml\n",
      "    loader_module: mlflow.sklearn\n",
      "    model_path: model.pkl\n",
      "    predict_fn: predict\n",
      "    python_version: 3.10.6\n",
      "  sklearn:\n",
      "    code: null\n",
      "    pickled_model: model.pkl\n",
      "    serialization_format: cloudpickle\n",
      "    sklearn_version: 1.2.2\n",
      "mlflow_version: 2.3.1\n",
      "model_uuid: 59ab7d62a3a945c28185c17dddcb28bd\n",
      "run_id: a97e1fa4c6574c3c9ad86276bc1ac69a\n",
      "utc_time_created: '2023-05-08 10:43:50.028765'\n"
     ]
    }
   ],
   "source": [
    "%%bash\n",
    "last_model_path=$(ls -tr mlruns/0/ | tail -1)\n",
    "cat mlruns/0/$last_model_path/artifacts/rfc/MLmodel\n",
    "# cat mlruns/0/9bc20977e5894b72bc4bbeb0044f5e38/artifacts/rfc/MLmodel\n",
    "\n"
   ]
  },
  {
   "cell_type": "code",
   "execution_count": 16,
   "id": "ae7a3b10-e73e-458e-a86d-73c5353af294",
   "metadata": {},
   "outputs": [],
   "source": [
    "import mlflow"
   ]
  },
  {
   "cell_type": "code",
   "execution_count": 17,
   "id": "b492d50f-9d12-4c97-a697-bacd34eba1b8",
   "metadata": {},
   "outputs": [
    {
     "data": {
      "text/plain": [
       "'2.3.1'"
      ]
     },
     "execution_count": 17,
     "metadata": {},
     "output_type": "execute_result"
    }
   ],
   "source": [
    "mlflow.__version__"
   ]
  },
  {
   "attachments": {},
   "cell_type": "markdown",
   "id": "4a4654c1-33c9-49d1-bfac-d8090dec79f1",
   "metadata": {},
   "source": [
    "## Serving model\n",
    "\n",
    "Now that we trained our models we can go to *Models* page on MLFLow UI (http://localhost:5000/#/models).\n",
    "\n",
    "Click *sklearn_knn* on this page, choose a model and move it to *Production* stage.\n",
    "\n",
    "The following cell will serve the model at localhost on port 5001."
   ]
  },
  {
   "cell_type": "code",
   "execution_count": 20,
   "id": "ef644f7b-ad7e-4a3b-8b4e-df6a20e85290",
   "metadata": {},
   "outputs": [],
   "source": [
    "%%bash --bg\n",
    "source mlflow_env_vars.sh\n",
    "mlflow --version\n",
    "mlflow models serve -m models:/sklearn_rfc/Production -p 5003 --env-manager=conda \n"
   ]
  },
  {
   "attachments": {},
   "cell_type": "markdown",
   "id": "7f81d979-a94c-4307-a5f6-cd95a5c4eeff",
   "metadata": {},
   "source": [
    "# Prediction\n",
    "\n",
    "We'll load data that we can feed into prediction server."
   ]
  },
  {
   "cell_type": "code",
   "execution_count": 21,
   "id": "d684121e-1ce1-433c-9349-9ef539e3f36b",
   "metadata": {},
   "outputs": [
    {
     "data": {
      "text/html": [
       "<div>\n",
       "<style scoped>\n",
       "    .dataframe tbody tr th:only-of-type {\n",
       "        vertical-align: middle;\n",
       "    }\n",
       "\n",
       "    .dataframe tbody tr th {\n",
       "        vertical-align: top;\n",
       "    }\n",
       "\n",
       "    .dataframe thead th {\n",
       "        text-align: right;\n",
       "    }\n",
       "</style>\n",
       "<table border=\"1\" class=\"dataframe\">\n",
       "  <thead>\n",
       "    <tr style=\"text-align: right;\">\n",
       "      <th></th>\n",
       "      <th>type</th>\n",
       "      <th>fixed acidity</th>\n",
       "      <th>volatile acidity</th>\n",
       "      <th>citric acid</th>\n",
       "      <th>residual sugar</th>\n",
       "      <th>chlorides</th>\n",
       "      <th>free sulfur dioxide</th>\n",
       "      <th>total sulfur dioxide</th>\n",
       "      <th>density</th>\n",
       "      <th>pH</th>\n",
       "      <th>sulphates</th>\n",
       "      <th>alcohol</th>\n",
       "      <th>quality</th>\n",
       "    </tr>\n",
       "  </thead>\n",
       "  <tbody>\n",
       "    <tr>\n",
       "      <th>0</th>\n",
       "      <td>white</td>\n",
       "      <td>7.0</td>\n",
       "      <td>0.270</td>\n",
       "      <td>0.36</td>\n",
       "      <td>20.7</td>\n",
       "      <td>0.045</td>\n",
       "      <td>45.0</td>\n",
       "      <td>170.0</td>\n",
       "      <td>1.00100</td>\n",
       "      <td>3.00</td>\n",
       "      <td>0.45</td>\n",
       "      <td>8.8</td>\n",
       "      <td>6</td>\n",
       "    </tr>\n",
       "    <tr>\n",
       "      <th>1</th>\n",
       "      <td>white</td>\n",
       "      <td>6.3</td>\n",
       "      <td>0.300</td>\n",
       "      <td>0.34</td>\n",
       "      <td>1.6</td>\n",
       "      <td>0.049</td>\n",
       "      <td>14.0</td>\n",
       "      <td>132.0</td>\n",
       "      <td>0.99400</td>\n",
       "      <td>3.30</td>\n",
       "      <td>0.49</td>\n",
       "      <td>9.5</td>\n",
       "      <td>6</td>\n",
       "    </tr>\n",
       "    <tr>\n",
       "      <th>2</th>\n",
       "      <td>white</td>\n",
       "      <td>8.1</td>\n",
       "      <td>0.280</td>\n",
       "      <td>0.40</td>\n",
       "      <td>6.9</td>\n",
       "      <td>0.050</td>\n",
       "      <td>30.0</td>\n",
       "      <td>97.0</td>\n",
       "      <td>0.99510</td>\n",
       "      <td>3.26</td>\n",
       "      <td>0.44</td>\n",
       "      <td>10.1</td>\n",
       "      <td>6</td>\n",
       "    </tr>\n",
       "    <tr>\n",
       "      <th>3</th>\n",
       "      <td>white</td>\n",
       "      <td>7.2</td>\n",
       "      <td>0.230</td>\n",
       "      <td>0.32</td>\n",
       "      <td>8.5</td>\n",
       "      <td>0.058</td>\n",
       "      <td>47.0</td>\n",
       "      <td>186.0</td>\n",
       "      <td>0.99560</td>\n",
       "      <td>3.19</td>\n",
       "      <td>0.40</td>\n",
       "      <td>9.9</td>\n",
       "      <td>6</td>\n",
       "    </tr>\n",
       "    <tr>\n",
       "      <th>4</th>\n",
       "      <td>white</td>\n",
       "      <td>7.2</td>\n",
       "      <td>0.230</td>\n",
       "      <td>0.32</td>\n",
       "      <td>8.5</td>\n",
       "      <td>0.058</td>\n",
       "      <td>47.0</td>\n",
       "      <td>186.0</td>\n",
       "      <td>0.99560</td>\n",
       "      <td>3.19</td>\n",
       "      <td>0.40</td>\n",
       "      <td>9.9</td>\n",
       "      <td>6</td>\n",
       "    </tr>\n",
       "    <tr>\n",
       "      <th>...</th>\n",
       "      <td>...</td>\n",
       "      <td>...</td>\n",
       "      <td>...</td>\n",
       "      <td>...</td>\n",
       "      <td>...</td>\n",
       "      <td>...</td>\n",
       "      <td>...</td>\n",
       "      <td>...</td>\n",
       "      <td>...</td>\n",
       "      <td>...</td>\n",
       "      <td>...</td>\n",
       "      <td>...</td>\n",
       "      <td>...</td>\n",
       "    </tr>\n",
       "    <tr>\n",
       "      <th>6492</th>\n",
       "      <td>red</td>\n",
       "      <td>6.2</td>\n",
       "      <td>0.600</td>\n",
       "      <td>0.08</td>\n",
       "      <td>2.0</td>\n",
       "      <td>0.090</td>\n",
       "      <td>32.0</td>\n",
       "      <td>44.0</td>\n",
       "      <td>0.99490</td>\n",
       "      <td>3.45</td>\n",
       "      <td>0.58</td>\n",
       "      <td>10.5</td>\n",
       "      <td>5</td>\n",
       "    </tr>\n",
       "    <tr>\n",
       "      <th>6493</th>\n",
       "      <td>red</td>\n",
       "      <td>5.9</td>\n",
       "      <td>0.550</td>\n",
       "      <td>0.10</td>\n",
       "      <td>2.2</td>\n",
       "      <td>0.062</td>\n",
       "      <td>39.0</td>\n",
       "      <td>51.0</td>\n",
       "      <td>0.99512</td>\n",
       "      <td>3.52</td>\n",
       "      <td>NaN</td>\n",
       "      <td>11.2</td>\n",
       "      <td>6</td>\n",
       "    </tr>\n",
       "    <tr>\n",
       "      <th>6494</th>\n",
       "      <td>red</td>\n",
       "      <td>6.3</td>\n",
       "      <td>0.510</td>\n",
       "      <td>0.13</td>\n",
       "      <td>2.3</td>\n",
       "      <td>0.076</td>\n",
       "      <td>29.0</td>\n",
       "      <td>40.0</td>\n",
       "      <td>0.99574</td>\n",
       "      <td>3.42</td>\n",
       "      <td>0.75</td>\n",
       "      <td>11.0</td>\n",
       "      <td>6</td>\n",
       "    </tr>\n",
       "    <tr>\n",
       "      <th>6495</th>\n",
       "      <td>red</td>\n",
       "      <td>5.9</td>\n",
       "      <td>0.645</td>\n",
       "      <td>0.12</td>\n",
       "      <td>2.0</td>\n",
       "      <td>0.075</td>\n",
       "      <td>32.0</td>\n",
       "      <td>44.0</td>\n",
       "      <td>0.99547</td>\n",
       "      <td>3.57</td>\n",
       "      <td>0.71</td>\n",
       "      <td>10.2</td>\n",
       "      <td>5</td>\n",
       "    </tr>\n",
       "    <tr>\n",
       "      <th>6496</th>\n",
       "      <td>red</td>\n",
       "      <td>6.0</td>\n",
       "      <td>0.310</td>\n",
       "      <td>0.47</td>\n",
       "      <td>3.6</td>\n",
       "      <td>0.067</td>\n",
       "      <td>18.0</td>\n",
       "      <td>42.0</td>\n",
       "      <td>0.99549</td>\n",
       "      <td>3.39</td>\n",
       "      <td>0.66</td>\n",
       "      <td>11.0</td>\n",
       "      <td>6</td>\n",
       "    </tr>\n",
       "  </tbody>\n",
       "</table>\n",
       "<p>6497 rows × 13 columns</p>\n",
       "</div>"
      ],
      "text/plain": [
       "       type  fixed acidity  volatile acidity  citric acid  residual sugar   \n",
       "0     white            7.0             0.270         0.36            20.7  \\\n",
       "1     white            6.3             0.300         0.34             1.6   \n",
       "2     white            8.1             0.280         0.40             6.9   \n",
       "3     white            7.2             0.230         0.32             8.5   \n",
       "4     white            7.2             0.230         0.32             8.5   \n",
       "...     ...            ...               ...          ...             ...   \n",
       "6492    red            6.2             0.600         0.08             2.0   \n",
       "6493    red            5.9             0.550         0.10             2.2   \n",
       "6494    red            6.3             0.510         0.13             2.3   \n",
       "6495    red            5.9             0.645         0.12             2.0   \n",
       "6496    red            6.0             0.310         0.47             3.6   \n",
       "\n",
       "      chlorides  free sulfur dioxide  total sulfur dioxide  density    pH   \n",
       "0         0.045                 45.0                 170.0  1.00100  3.00  \\\n",
       "1         0.049                 14.0                 132.0  0.99400  3.30   \n",
       "2         0.050                 30.0                  97.0  0.99510  3.26   \n",
       "3         0.058                 47.0                 186.0  0.99560  3.19   \n",
       "4         0.058                 47.0                 186.0  0.99560  3.19   \n",
       "...         ...                  ...                   ...      ...   ...   \n",
       "6492      0.090                 32.0                  44.0  0.99490  3.45   \n",
       "6493      0.062                 39.0                  51.0  0.99512  3.52   \n",
       "6494      0.076                 29.0                  40.0  0.99574  3.42   \n",
       "6495      0.075                 32.0                  44.0  0.99547  3.57   \n",
       "6496      0.067                 18.0                  42.0  0.99549  3.39   \n",
       "\n",
       "      sulphates  alcohol  quality  \n",
       "0          0.45      8.8        6  \n",
       "1          0.49      9.5        6  \n",
       "2          0.44     10.1        6  \n",
       "3          0.40      9.9        6  \n",
       "4          0.40      9.9        6  \n",
       "...         ...      ...      ...  \n",
       "6492       0.58     10.5        5  \n",
       "6493        NaN     11.2        6  \n",
       "6494       0.75     11.0        6  \n",
       "6495       0.71     10.2        5  \n",
       "6496       0.66     11.0        6  \n",
       "\n",
       "[6497 rows x 13 columns]"
      ]
     },
     "execution_count": 21,
     "metadata": {},
     "output_type": "execute_result"
    }
   ],
   "source": [
    "import pandas as pd\n",
    "df = pd.read_csv(\"winequalityN.csv\")\n",
    "df"
   ]
  },
  {
   "attachments": {},
   "cell_type": "markdown",
   "id": "2516ceaf-45b5-4d67-a63d-048cc8086d63",
   "metadata": {},
   "source": [
    "Let's predict for first winter day and first non-winter day (first rows of previous two dataframes)\n",
    "\n",
    "**warning: this might fail at first because the prediction server didn't spin up; in this case wait a minute**"
   ]
  },
  {
   "cell_type": "code",
   "execution_count": 24,
   "id": "650174ad-bb37-4fe3-b450-b8ba7889bfe6",
   "metadata": {},
   "outputs": [
    {
     "name": "stdout",
     "output_type": "stream",
     "text": [
      "[[7.0,0.270,0.36,20.7,0.045,45.0,170.0,1.00,100,3.00,0.45], [7.0,0.270,0.36,20.7,0.045,45.0,170.0,1.00,100,3.00,0.45]]\n"
     ]
    },
    {
     "name": "stderr",
     "output_type": "stream",
     "text": [
      "  % Total    % Received % Xferd  Average Speed   Time    Time     Time  Current\n",
      "                                 Dload  Upload   Total   Spent    Left  Speed\n",
      "/home/maviaalamkhan/Documents/mlop/data_engineering_bootcamp_2303/tasks/3_machine_learning_essentials/day_4_mlops/mlops-student/lib/python3.10/site-packages/sklearn/base.py:439: UserWarning: X does not have valid feature names, but SimpleImputer was fitted with feature names\n",
      "  warnings.warn(\n",
      "100   153  100    23  100   130   1611   9111 --:--:-- --:--:-- --:--:-- 10928\n"
     ]
    },
    {
     "name": "stdout",
     "output_type": "stream",
     "text": [
      "{\"predictions\": [5, 5]}"
     ]
    }
   ],
   "source": [
    "%%bash\n",
    "data='[[7.0,0.270,0.36,20.7,0.045,45.0,170.0,1.00,100,3.00,0.45], [7.0,0.270,0.36,20.7,0.045,45.0,170.0,1.00,100,3.00,0.45]]'\n",
    "echo $data\n",
    "\n",
    "curl -d \"{\\\"inputs\\\": $data}\" -H 'Content-Type: application/json' 127.0.0.1:5003/invocations"
   ]
  },
  {
   "cell_type": "code",
   "execution_count": 25,
   "id": "61bf3366-18cc-4bcd-a927-f7211d9e3b7c",
   "metadata": {},
   "outputs": [
    {
     "name": "stdout",
     "output_type": "stream",
     "text": [
      "[[7.0,0.270,0.36,20.7,0.045,45.0,170.0,1.00,100,3.00,0.45], [7.0,0.270,0.36,20.7,0.045,45.0,170.0,1.00,100,3.00,0.45]]\n"
     ]
    },
    {
     "name": "stderr",
     "output_type": "stream",
     "text": [
      "  % Total    % Received % Xferd  Average Speed   Time    Time     Time  Current\n",
      "                                 Dload  Upload   Total   Spent    Left  Speed\n",
      "/home/maviaalamkhan/Documents/mlop/data_engineering_bootcamp_2303/tasks/3_machine_learning_essentials/day_4_mlops/mlops-student/lib/python3.10/site-packages/sklearn/base.py:439: UserWarning: X does not have valid feature names, but SimpleImputer was fitted with feature names\n",
      "  warnings.warn(\n",
      "100   156  100    23  100   133   1900  10987 --:--:-- --:--:-- --:--:-- 13000\n"
     ]
    },
    {
     "name": "stdout",
     "output_type": "stream",
     "text": [
      "{\"predictions\": [5, 5]}"
     ]
    }
   ],
   "source": [
    "%%bash\n",
    "data='[[7.0,0.270,0.36,20.7,0.045,45.0,170.0,1.00,100,3.00,0.45], [7.0,0.270,0.36,20.7,0.045,45.0,170.0,1.00,100,3.00,0.45]]'\n",
    "echo $data\n",
    "\n",
    "curl -d \"{\\\"instances\\\": $data}\" -H 'Content-Type: application/json' 127.0.0.1:5003/invocations"
   ]
  },
  {
   "cell_type": "code",
   "execution_count": 29,
   "id": "e8d788af-af76-4616-9377-4accb1f29696",
   "metadata": {},
   "outputs": [
    {
     "name": "stdout",
     "output_type": "stream",
     "text": [
      "[[7.0,0.270,0.36,20.7,0.045,45.0,170.0,1.00,100,3.00,0.45], [7.0,0.270,0.36,20.7,0.045,45.0,170.0,1.00,100,3.00,0.45]]\n"
     ]
    },
    {
     "name": "stderr",
     "output_type": "stream",
     "text": [
      "  % Total    % Received % Xferd  Average Speed   Time    Time     Time  Current\n",
      "                                 Dload  Upload   Total   Spent    Left  Speed\n",
      "100   343  100    23  100   320   1321  18389 --:--:-- --:--:-- --:--:-- 20176\n"
     ]
    },
    {
     "name": "stdout",
     "output_type": "stream",
     "text": [
      "{\"predictions\": [5, 5]}"
     ]
    }
   ],
   "source": [
    "%%bash\n",
    "data='[[7.0,0.270,0.36,20.7,0.045,45.0,170.0,1.00,100,3.00,0.45], [7.0,0.270,0.36,20.7,0.045,45.0,170.0,1.00,100,3.00,0.45]]'\n",
    "columns='[\"fixed acidity\",\"volatile acidity,\"citric acid\",\"residual sugar\",\t\"chlorides\",\"free sulfur dioxide\",\"total sulfur dioxide\",\"density,\"pH\",\"sulphates alcohol\"]'\n",
    "echo $data\n",
    "\n",
    "curl -d \"{\\\"dataframe_split\\\":{\\\"columns\\\":[\\\"fixed acidity\\\",\\\"volatile acidity\\\",\\\"citric acid\\\",\\\"residual sugar\\\",\\\"chlorides\\\",\\\"free sulfur dioxide\\\",\\\"total sulfur dioxide\\\",\\\"density\\\",\\\"pH\\\",\\\"sulphates\\\",\\\"alcohol\\\"],\\\"data\\\": $data}}\" -H 'Content-Type: application/json' 127.0.0.1:5003/invocations"
   ]
  },
  {
   "attachments": {},
   "cell_type": "markdown",
   "id": "d4abd689-28c3-4abb-8465-4035d3fa780c",
   "metadata": {},
   "source": [
    "Voila! We see that the model outputs correct predictions."
   ]
  }
 ],
 "metadata": {
  "kernelspec": {
   "display_name": "Python 3 (ipykernel)",
   "language": "python",
   "name": "python3"
  },
  "language_info": {
   "codemirror_mode": {
    "name": "ipython",
    "version": 3
   },
   "file_extension": ".py",
   "mimetype": "text/x-python",
   "name": "python",
   "nbconvert_exporter": "python",
   "pygments_lexer": "ipython3",
   "version": "3.10.6"
  }
 },
 "nbformat": 4,
 "nbformat_minor": 5
}
