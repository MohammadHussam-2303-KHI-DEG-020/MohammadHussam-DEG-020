{
 "cells": [
  {
   "cell_type": "code",
   "execution_count": 4,
   "id": "4ee6caa4-394e-46db-ae17-02d3009fde7c",
   "metadata": {
    "tags": []
   },
   "outputs": [
    {
     "name": "stdout",
     "output_type": "stream",
     "text": [
      "[[ 78  40  41  11]\n",
      " [ 89  88   0  21]\n",
      " [ 68 100  90  70]\n",
      " [ 70  46  41  46]\n",
      " [ 72  33  55  23]\n",
      " [  2  30  11  55]]\n"
     ]
    }
   ],
   "source": [
    "import numpy as np\n",
    "matrix = np.random.randint(0, 101, size=(6, 4))\n",
    "print(matrix)"
   ]
  },
  {
   "cell_type": "code",
   "execution_count": 5,
   "id": "3afa1d7b-211a-4b56-842d-a3881941ffd2",
   "metadata": {
    "tags": []
   },
   "outputs": [],
   "source": [
    "matrix[4:5] = matrix[0] + matrix[2]"
   ]
  },
  {
   "cell_type": "code",
   "execution_count": 6,
   "id": "bccd691b-040f-4b2b-9450-f54a59158552",
   "metadata": {
    "tags": []
   },
   "outputs": [
    {
     "name": "stdout",
     "output_type": "stream",
     "text": [
      "[[146 140 131  81]]\n"
     ]
    }
   ],
   "source": [
    "print(matrix[4:5])"
   ]
  },
  {
   "cell_type": "code",
   "execution_count": 7,
   "id": "fe29bd02-867f-44d3-9e6e-fa0de8754cba",
   "metadata": {
    "tags": []
   },
   "outputs": [
    {
     "name": "stdout",
     "output_type": "stream",
     "text": [
      "[[ 78  40  41  11]\n",
      " [ 89  88   0  21]\n",
      " [ 68 100  90  70]\n",
      " [ 70  46  41  46]\n",
      " [146 140 131  81]\n",
      " [  2  30  11  55]]\n"
     ]
    }
   ],
   "source": [
    "print(matrix)"
   ]
  },
  {
   "cell_type": "code",
   "execution_count": 8,
   "id": "4da25acd-aa84-4027-9d8d-62c3e3fbba4d",
   "metadata": {
    "tags": []
   },
   "outputs": [],
   "source": [
    "matrix[5:6]= matrix[1] + matrix[3]"
   ]
  },
  {
   "cell_type": "code",
   "execution_count": 9,
   "id": "716ae708-e496-481b-ae85-94aeebaa901c",
   "metadata": {
    "tags": []
   },
   "outputs": [
    {
     "name": "stdout",
     "output_type": "stream",
     "text": [
      "[[159 134  41  67]]\n"
     ]
    }
   ],
   "source": [
    "print(matrix[5:6])"
   ]
  },
  {
   "cell_type": "code",
   "execution_count": 17,
   "id": "78f911e0-2635-441a-8419-6238fb65c307",
   "metadata": {
    "tags": []
   },
   "outputs": [
    {
     "name": "stdout",
     "output_type": "stream",
     "text": [
      "[[ 78  40  41  11]\n",
      " [ 89  88   0  21]\n",
      " [ 68 100  90  70]\n",
      " [ 70  46  41  46]\n",
      " [146 140 131  81]\n",
      " [159 134  41  67]]\n"
     ]
    }
   ],
   "source": [
    "print(matrix)"
   ]
  },
  {
   "cell_type": "code",
   "execution_count": null,
   "id": "13d6278f-983d-4e93-9067-354097f3f95c",
   "metadata": {},
   "outputs": [],
   "source": []
  }
 ],
 "metadata": {
  "kernelspec": {
   "display_name": "Python 3 (ipykernel)",
   "language": "python",
   "name": "python3"
  },
  "language_info": {
   "codemirror_mode": {
    "name": "ipython",
    "version": 3
   },
   "file_extension": ".py",
   "mimetype": "text/x-python",
   "name": "python",
   "nbconvert_exporter": "python",
   "pygments_lexer": "ipython3",
   "version": "3.10.6"
  }
 },
 "nbformat": 4,
 "nbformat_minor": 5
}
